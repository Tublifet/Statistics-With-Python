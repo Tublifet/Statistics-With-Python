{
 "cells": [
  {
   "cell_type": "markdown",
   "id": "ebb45e29",
   "metadata": {},
   "source": [
    "# Tuples"
   ]
  },
  {
   "cell_type": "markdown",
   "id": "0a3c1753",
   "metadata": {},
   "source": [
    "Tuples are an immutable sequence data type that are commonly used to hold short collections of related data. For instance, if you wanted to store latitude and longitude coordinates for cities, tuples might be a good choice, because the values are related and not likely to change. Like lists, tuples can store objects of different types.\n",
    "\n",
    "Construct a tuple with a comma separated sequence of objects within parentheses:"
   ]
  },
  {
   "cell_type": "code",
   "execution_count": 1,
   "id": "13222078",
   "metadata": {},
   "outputs": [
    {
     "name": "stdout",
     "output_type": "stream",
     "text": [
      "(1, 3, 5)\n"
     ]
    }
   ],
   "source": [
    "my_tuple = (1,3,5)\n",
    "print(my_tuple)"
   ]
  },
  {
   "cell_type": "markdown",
   "id": "f92fcd6d",
   "metadata": {},
   "source": [
    "Alternatively, you can construct a tuple by passing an iterable into the tuple() function:"
   ]
  },
  {
   "cell_type": "code",
   "execution_count": 2,
   "id": "4c185250",
   "metadata": {},
   "outputs": [
    {
     "data": {
      "text/plain": [
       "(2, 3, 1, 4)"
      ]
     },
     "execution_count": 2,
     "metadata": {},
     "output_type": "execute_result"
    }
   ],
   "source": [
    "my_list = [2,3,1,4]\n",
    "\n",
    "another_tuple = tuple(my_list)\n",
    "\n",
    "another_tuple"
   ]
  },
  {
   "cell_type": "markdown",
   "id": "8411be68",
   "metadata": {},
   "source": [
    "Tuples generally support the same indexing and slicing operations as lists and they also support some of the same functions, with the caveat that tuples cannot be changed after they are created. This means we can do things like find the length, max or min of a tuple, but we can't append new values to them or remove values from them:"
   ]
  },
  {
   "cell_type": "code",
   "execution_count": 3,
   "id": "e7897f9f",
   "metadata": {},
   "outputs": [
    {
     "data": {
      "text/plain": [
       "1"
      ]
     },
     "execution_count": 3,
     "metadata": {},
     "output_type": "execute_result"
    }
   ],
   "source": [
    "another_tuple[2] # You can index into tuples"
   ]
  },
  {
   "cell_type": "code",
   "execution_count": 4,
   "id": "f183e46b",
   "metadata": {},
   "outputs": [
    {
     "data": {
      "text/plain": [
       "(1, 4)"
      ]
     },
     "execution_count": 4,
     "metadata": {},
     "output_type": "execute_result"
    }
   ],
   "source": [
    "another_tuple[2:4] # You can slice tuples"
   ]
  },
  {
   "cell_type": "code",
   "execution_count": 5,
   "id": "05382749",
   "metadata": {},
   "outputs": [
    {
     "name": "stdout",
     "output_type": "stream",
     "text": [
      "4\n",
      "1\n",
      "4\n",
      "10\n"
     ]
    }
   ],
   "source": [
    "# You can use common sequence functions on tuples:\n",
    "\n",
    "print(len(another_tuple))\n",
    "print(min(another_tuple))\n",
    "print(max(another_tuple))\n",
    "print(sum(another_tuple))"
   ]
  },
  {
   "cell_type": "code",
   "execution_count": 6,
   "id": "df9676ea",
   "metadata": {},
   "outputs": [
    {
     "ename": "AttributeError",
     "evalue": "'tuple' object has no attribute 'append'",
     "output_type": "error",
     "traceback": [
      "\u001b[1;31m---------------------------------------------------------------------------\u001b[0m",
      "\u001b[1;31mAttributeError\u001b[0m                            Traceback (most recent call last)",
      "Cell \u001b[1;32mIn [6], line 1\u001b[0m\n\u001b[1;32m----> 1\u001b[0m \u001b[43manother_tuple\u001b[49m\u001b[38;5;241;43m.\u001b[39;49m\u001b[43mappend\u001b[49m(\u001b[38;5;241m1\u001b[39m) \u001b[38;5;66;03m# You can't append to a tuple\u001b[39;00m\n",
      "\u001b[1;31mAttributeError\u001b[0m: 'tuple' object has no attribute 'append'"
     ]
    }
   ],
   "source": [
    "another_tuple.append(1) # You can't append to a tuple"
   ]
  },
  {
   "cell_type": "code",
   "execution_count": 7,
   "id": "93c420e6",
   "metadata": {},
   "outputs": [
    {
     "ename": "TypeError",
     "evalue": "'tuple' object doesn't support item deletion",
     "output_type": "error",
     "traceback": [
      "\u001b[1;31m---------------------------------------------------------------------------\u001b[0m",
      "\u001b[1;31mTypeError\u001b[0m                                 Traceback (most recent call last)",
      "Cell \u001b[1;32mIn [7], line 1\u001b[0m\n\u001b[1;32m----> 1\u001b[0m \u001b[38;5;28;01mdel\u001b[39;00m \u001b[43manother_tuple\u001b[49m\u001b[43m[\u001b[49m\u001b[38;5;241;43m1\u001b[39;49m\u001b[43m]\u001b[49m \u001b[38;5;66;03m# You can't delete from a tuple\u001b[39;00m\n",
      "\u001b[1;31mTypeError\u001b[0m: 'tuple' object doesn't support item deletion"
     ]
    }
   ],
   "source": [
    "del another_tuple[1] # You can't delete from a tuple"
   ]
  },
  {
   "cell_type": "markdown",
   "id": "a47a2648",
   "metadata": {},
   "source": [
    "You can sort the objects in tuple using the sorted() function, but doing so creates a new list containing the result rather than sorting the original tuple itself like the list.sort() function does with lists:"
   ]
  },
  {
   "cell_type": "code",
   "execution_count": 8,
   "id": "7a932221",
   "metadata": {},
   "outputs": [
    {
     "data": {
      "text/plain": [
       "[1, 2, 3, 4]"
      ]
     },
     "execution_count": 8,
     "metadata": {},
     "output_type": "execute_result"
    }
   ],
   "source": [
    "sorted(another_tuple)"
   ]
  },
  {
   "cell_type": "code",
   "execution_count": 10,
   "id": "c24cc5f2",
   "metadata": {},
   "outputs": [
    {
     "name": "stdout",
     "output_type": "stream",
     "text": [
      "('Tuples are Immutable', [1, 2, 3, 'But lists are mutable'])\n"
     ]
    }
   ],
   "source": [
    "list1 = [1,2,3]\n",
    "\n",
    "tuple1 = (\"Tuples are Immutable\", list1)\n",
    "\n",
    "tuple2 = tuple1[:] # Make a shallow copy\n",
    "\n",
    "list1.append(\"But lists are mutable\")\n",
    "\n",
    "print(tuple2) # Print the copy"
   ]
  },
  {
   "cell_type": "markdown",
   "id": "761d36bc",
   "metadata": {},
   "source": [
    "To avoid this behavior, make a deepcopy using the copy library:"
   ]
  },
  {
   "cell_type": "code",
   "execution_count": 12,
   "id": "43fb10a3",
   "metadata": {},
   "outputs": [
    {
     "name": "stdout",
     "output_type": "stream",
     "text": [
      "('Tuples are Immutable', [1, 2, 3])\n"
     ]
    }
   ],
   "source": [
    "import copy\n",
    "\n",
    "list1 = [1,2,3]\n",
    "\n",
    "tuple1 = (\"Tuples are Immutable\", list1)\n",
    "\n",
    "tuple2 = copy.deepcopy(tuple1) # Make a deepcopy\n",
    "\n",
    "list1.append(\"But lists are mutable\")\n",
    "\n",
    "print(tuple2) # Print the copy"
   ]
  },
  {
   "cell_type": "markdown",
   "id": "755ce33f",
   "metadata": {},
   "source": [
    "# Strings\n"
   ]
  },
  {
   "cell_type": "markdown",
   "id": "cc3efb9b",
   "metadata": {},
   "source": [
    "We already learned a little bit about strings in the lesson on basic data types, but strings are technically sequences: immutable sequences of text characters. As sequences, they support indexing operations where the first character of a string is index 0. This means we can get individual letters or slices of letters with indexing:"
   ]
  },
  {
   "cell_type": "code",
   "execution_count": 13,
   "id": "d6428cc9",
   "metadata": {},
   "outputs": [
    {
     "data": {
      "text/plain": [
       "'l'"
      ]
     },
     "execution_count": 13,
     "metadata": {},
     "output_type": "execute_result"
    }
   ],
   "source": [
    "my_string = \"Hello world\"\n",
    "\n",
    "my_string[3] # Get the character at index 3"
   ]
  },
  {
   "cell_type": "code",
   "execution_count": 15,
   "id": "17eec934",
   "metadata": {},
   "outputs": [
    {
     "data": {
      "text/plain": [
       "'lo world'"
      ]
     },
     "execution_count": 15,
     "metadata": {},
     "output_type": "execute_result"
    }
   ],
   "source": [
    "my_string[3:] # Slice from the third index to the end"
   ]
  },
  {
   "cell_type": "code",
   "execution_count": 16,
   "id": "49a5c64f",
   "metadata": {},
   "outputs": [
    {
     "data": {
      "text/plain": [
       "'dlrow olleH'"
      ]
     },
     "execution_count": 16,
     "metadata": {},
     "output_type": "execute_result"
    }
   ],
   "source": [
    "my_string[::-1] # Reverse the string"
   ]
  },
  {
   "cell_type": "markdown",
   "id": "b9050b8c",
   "metadata": {},
   "source": [
    "In addition, certain sequence functions like len() and count() work on strings:"
   ]
  },
  {
   "cell_type": "code",
   "execution_count": 17,
   "id": "b058fb23",
   "metadata": {},
   "outputs": [
    {
     "data": {
      "text/plain": [
       "11"
      ]
     },
     "execution_count": 17,
     "metadata": {},
     "output_type": "execute_result"
    }
   ],
   "source": [
    "len(my_string)"
   ]
  },
  {
   "cell_type": "code",
   "execution_count": 18,
   "id": "e7a82263",
   "metadata": {},
   "outputs": [
    {
     "data": {
      "text/plain": [
       "3"
      ]
     },
     "execution_count": 18,
     "metadata": {},
     "output_type": "execute_result"
    }
   ],
   "source": [
    "my_string.count(\"l\") #count the l's in the string"
   ]
  },
  {
   "cell_type": "markdown",
   "id": "0445dc55",
   "metadata": {},
   "source": [
    "As immutable objects, you can't change a string itself: every time you transform a string with a function, Python makes a new string object, rather than actually altering the original string that exists in your computer's memory.\n",
    "\n",
    "Strings have many associated functions. Some basic string functions include:"
   ]
  },
  {
   "cell_type": "code",
   "execution_count": 19,
   "id": "1941782b",
   "metadata": {},
   "outputs": [
    {
     "data": {
      "text/plain": [
       "'hello world'"
      ]
     },
     "execution_count": 19,
     "metadata": {},
     "output_type": "execute_result"
    }
   ],
   "source": [
    "# str.lower()\n",
    "\n",
    "my_string.lower() # Make all characters lowercase"
   ]
  },
  {
   "cell_type": "code",
   "execution_count": 20,
   "id": "16690f51",
   "metadata": {},
   "outputs": [
    {
     "data": {
      "text/plain": [
       "'HELLO WORLD'"
      ]
     },
     "execution_count": 20,
     "metadata": {},
     "output_type": "execute_result"
    }
   ],
   "source": [
    "# str.upper()\n",
    "\n",
    "my_string.upper() # Make all characters uppercase"
   ]
  },
  {
   "cell_type": "code",
   "execution_count": 21,
   "id": "356b7823",
   "metadata": {},
   "outputs": [
    {
     "data": {
      "text/plain": [
       "'Hello World'"
      ]
     },
     "execution_count": 21,
     "metadata": {},
     "output_type": "execute_result"
    }
   ],
   "source": [
    "# str.title()\n",
    "\n",
    "my_string.title() # Make the first letter of each word uppercase"
   ]
  },
  {
   "cell_type": "markdown",
   "id": "9da0dd4b",
   "metadata": {},
   "source": [
    "Find the index of the first appearing substring within a string using str.find(). If the substring does not appear, find() returns -1:"
   ]
  },
  {
   "cell_type": "code",
   "execution_count": 28,
   "id": "f91807fa",
   "metadata": {},
   "outputs": [
    {
     "data": {
      "text/plain": [
       "-1"
      ]
     },
     "execution_count": 28,
     "metadata": {},
     "output_type": "execute_result"
    }
   ],
   "source": [
    "my_string.find(\"W\")"
   ]
  },
  {
   "cell_type": "markdown",
   "id": "3052bbb9",
   "metadata": {},
   "source": [
    "Notice that since strings are immutable, we never actually changed the original value of my_string with any of the code above, but instead generated new strings that were printed to the console. This means \"W\" does not exist in my_string even though our call to str.title() produced the output 'Hello World'. The original lowercase \"w\" still exists at index position 6:"
   ]
  },
  {
   "cell_type": "code",
   "execution_count": 29,
   "id": "e17cee50",
   "metadata": {},
   "outputs": [
    {
     "data": {
      "text/plain": [
       "6"
      ]
     },
     "execution_count": 29,
     "metadata": {},
     "output_type": "execute_result"
    }
   ],
   "source": [
    "my_string.find(\"w\")"
   ]
  },
  {
   "cell_type": "markdown",
   "id": "2819645d",
   "metadata": {},
   "source": [
    "Find and replace a target substring within a string using str.replace():"
   ]
  },
  {
   "cell_type": "code",
   "execution_count": 30,
   "id": "1612553e",
   "metadata": {},
   "outputs": [
    {
     "data": {
      "text/plain": [
       "'Hello friend'"
      ]
     },
     "execution_count": 30,
     "metadata": {},
     "output_type": "execute_result"
    }
   ],
   "source": [
    "my_string.replace(\"world\", # Substring to replace\n",
    "                  \"friend\") # New substring"
   ]
  },
  {
   "cell_type": "markdown",
   "id": "115a21eb",
   "metadata": {},
   "source": [
    "Split a string into a list of substrings based on a given separating character with str.split():"
   ]
  },
  {
   "cell_type": "code",
   "execution_count": 31,
   "id": "3d8d449d",
   "metadata": {},
   "outputs": [
    {
     "data": {
      "text/plain": [
       "['Hello', 'world']"
      ]
     },
     "execution_count": 31,
     "metadata": {},
     "output_type": "execute_result"
    }
   ],
   "source": [
    "my_string.split() # str.split() splits on spaces by default"
   ]
  },
  {
   "cell_type": "code",
   "execution_count": 32,
   "id": "35760e56",
   "metadata": {},
   "outputs": [
    {
     "data": {
      "text/plain": [
       "['He', '', 'o wor', 'd']"
      ]
     },
     "execution_count": 32,
     "metadata": {},
     "output_type": "execute_result"
    }
   ],
   "source": [
    "my_string.split(\"l\") # Supply a substring to split on other values"
   ]
  },
  {
   "cell_type": "markdown",
   "id": "a6f86163",
   "metadata": {},
   "source": [
    "Split a multi-line string into a list of lines using str.splitlines():"
   ]
  },
  {
   "cell_type": "code",
   "execution_count": 35,
   "id": "9fdf557b",
   "metadata": {},
   "outputs": [
    {
     "data": {
      "text/plain": [
       "['I am', 'a multiline', 'string!']"
      ]
     },
     "execution_count": 35,
     "metadata": {},
     "output_type": "execute_result"
    }
   ],
   "source": [
    "multiline_string = \"\"\"I am\n",
    "a multiline\n",
    "string!\n",
    "\"\"\"\n",
    "\n",
    "multiline_string.splitlines()"
   ]
  },
  {
   "cell_type": "code",
   "execution_count": 36,
   "id": "318f996c",
   "metadata": {},
   "outputs": [
    {
     "data": {
      "text/plain": [
       "'strip while space!'"
      ]
     },
     "execution_count": 36,
     "metadata": {},
     "output_type": "execute_result"
    }
   ],
   "source": [
    "# str.strip() removes whitespace by default\n",
    "\n",
    "\"     strip while space!     \".strip()"
   ]
  },
  {
   "cell_type": "markdown",
   "id": "74faa206",
   "metadata": {},
   "source": [
    "Override the default by supplying a string containing all characters you'd like to strip as an argument to the function:"
   ]
  },
  {
   "cell_type": "code",
   "execution_count": 43,
   "id": "2e989bcd",
   "metadata": {},
   "outputs": [
    {
     "data": {
      "text/plain": [
       "'BuyNOW'"
      ]
     },
     "execution_count": 43,
     "metadata": {},
     "output_type": "execute_result"
    }
   ],
   "source": [
    "\"xXxxBuyNOWxxXx\".strip(\"xX\")"
   ]
  },
  {
   "cell_type": "markdown",
   "id": "857e3ae0",
   "metadata": {},
   "source": [
    "You can strip characters from the left or right sides only with str.lstrip() and str.rstrip() respectively.\n",
    "\n",
    "To join or concatenate two strings together, you can us the plus (+) operator:"
   ]
  },
  {
   "cell_type": "code",
   "execution_count": 45,
   "id": "5ea1f02f",
   "metadata": {},
   "outputs": [
    {
     "data": {
      "text/plain": [
       "'Hello World'"
      ]
     },
     "execution_count": 45,
     "metadata": {},
     "output_type": "execute_result"
    }
   ],
   "source": [
    "\"Hello \" + \"World\""
   ]
  },
  {
   "cell_type": "markdown",
   "id": "d8236857",
   "metadata": {},
   "source": [
    "Convert the a list of strings into a single string separated by a given delimiter with str.join():"
   ]
  },
  {
   "cell_type": "code",
   "execution_count": 46,
   "id": "bc734865",
   "metadata": {},
   "outputs": [
    {
     "data": {
      "text/plain": [
       "'Hello World! Join Me!'"
      ]
     },
     "execution_count": 46,
     "metadata": {},
     "output_type": "execute_result"
    }
   ],
   "source": [
    "\" \".join([\"Hello\", \"World!\", \"Join\", \"Me!\"])"
   ]
  },
  {
   "cell_type": "markdown",
   "id": "f6e55a28",
   "metadata": {},
   "source": [
    "Although the + operator works for string concatenation, things can get messy if you start trying to join more than a couple values together with pluses."
   ]
  },
  {
   "cell_type": "code",
   "execution_count": 47,
   "id": "c0d765e5",
   "metadata": {},
   "outputs": [
    {
     "data": {
      "text/plain": [
       "'My name is Joe I am 10 and I live in Paris'"
      ]
     },
     "execution_count": 47,
     "metadata": {},
     "output_type": "execute_result"
    }
   ],
   "source": [
    "name = \"Joe\"\n",
    "age = 10\n",
    "city = \"Paris\"\n",
    "\n",
    "\"My name is \" + name + \" I am \" + str(age) + \" and I live in \" + \"Paris\""
   ]
  },
  {
   "cell_type": "markdown",
   "id": "2106d614",
   "metadata": {},
   "source": [
    "For complex string operations of this sort is preferable to use the str.format() function or formatted strings. str.format() takes in a template string with curly braces as placeholders for values you provide to the function as the arguments. The arguments are then filled into the appropriate placeholders in the string:\n",
    "    "
   ]
  },
  {
   "cell_type": "code",
   "execution_count": 48,
   "id": "33a983cd",
   "metadata": {},
   "outputs": [
    {
     "data": {
      "text/plain": [
       "'My name is Joe I am 10 and I live in Paris'"
      ]
     },
     "execution_count": 48,
     "metadata": {},
     "output_type": "execute_result"
    }
   ],
   "source": [
    "template_string = \"My name is {} I am {} and I live in {}\"\n",
    "\n",
    "template_string.format(name, age, city)"
   ]
  },
  {
   "cell_type": "markdown",
   "id": "88173a50",
   "metadata": {},
   "source": [
    "Formatted strings or f-strings for short are an alternative, relatively new (as of Python version 3.6) method for string formatting. F-strings are strings prefixed with \"f\" (or \"F\") that allow you to insert existing variables into string by name by placing them within curly braces:"
   ]
  },
  {
   "cell_type": "code",
   "execution_count": 50,
   "id": "5527355b",
   "metadata": {},
   "outputs": [
    {
     "data": {
      "text/plain": [
       "'My name is Joe I am 10 and I live in Paris'"
      ]
     },
     "execution_count": 50,
     "metadata": {},
     "output_type": "execute_result"
    }
   ],
   "source": [
    "# Remaking the example above using an f-string\n",
    "\n",
    "f\"My name is {name} I am {age} and I live in {city}\""
   ]
  },
  {
   "cell_type": "code",
   "execution_count": null,
   "id": "25760870",
   "metadata": {},
   "outputs": [],
   "source": []
  }
 ],
 "metadata": {
  "kernelspec": {
   "display_name": "Python 3 (ipykernel)",
   "language": "python",
   "name": "python3"
  },
  "language_info": {
   "codemirror_mode": {
    "name": "ipython",
    "version": 3
   },
   "file_extension": ".py",
   "mimetype": "text/x-python",
   "name": "python",
   "nbconvert_exporter": "python",
   "pygments_lexer": "ipython3",
   "version": "3.11.0"
  }
 },
 "nbformat": 4,
 "nbformat_minor": 5
}
