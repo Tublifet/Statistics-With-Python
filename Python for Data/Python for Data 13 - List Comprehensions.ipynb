{
 "cells": [
  {
   "cell_type": "markdown",
   "id": "4e53481c",
   "metadata": {},
   "source": [
    "Python prides itself on its clean, readable code and making it as simple as possible for you to do the things you want to do. Although basic control flow statements and functions have enough power to express virtually any program, Python includes many convenience functions and constructs to let you do things faster and with less code.\n",
    "\n",
    "Populating lists and dictionaries is a common task that can be achieved with the loops we learned about in lesson 11. For instance, if we wanted to populate a list with the numbers 0 through 100, we could initialize an empty list as a container, run a for loop over the range of numbers from 0 to 100, and append each number to the list:"
   ]
  },
  {
   "cell_type": "code",
   "execution_count": 2,
   "id": "2eb8fb16",
   "metadata": {},
   "outputs": [
    {
     "name": "stdout",
     "output_type": "stream",
     "text": [
      "[0, 1, 2, 3, 4, 5, 6, 7, 8, 9, 10, 11, 12, 13, 14, 15, 16, 17, 18, 19, 20, 21, 22, 23, 24, 25, 26, 27, 28, 29, 30, 31, 32, 33, 34, 35, 36, 37, 38, 39, 40, 41, 42, 43, 44, 45, 46, 47, 48, 49, 50, 51, 52, 53, 54, 55, 56, 57, 58, 59, 60, 61, 62, 63, 64, 65, 66, 67, 68, 69, 70, 71, 72, 73, 74, 75, 76, 77, 78, 79, 80, 81, 82, 83, 84, 85, 86, 87, 88, 89, 90, 91, 92, 93, 94, 95, 96, 97, 98, 99, 100]\n"
     ]
    }
   ],
   "source": [
    "my_list = []\n",
    "\n",
    "for number in range(0, 101):\n",
    "    my_list.append(number)\n",
    "    \n",
    "print(my_list)"
   ]
  },
  {
   "cell_type": "markdown",
   "id": "e2ca5f8e",
   "metadata": {},
   "source": [
    "Note: range() creates a sequence of numbers from some specified starting number up to but not including an ending number. It also takes an optional argument for the step (counting increment) which defaults to 1.\n",
    "\n",
    "The code above works, but it is unnecessarily verbose. List comprehensions provide a way to do these sorts of constructions efficiently with less code."
   ]
  },
  {
   "cell_type": "markdown",
   "id": "07322aa7",
   "metadata": {},
   "source": [
    "# List Comprehensions\n",
    "List comprehensions let you populate lists in one line of code by taking the logic you would normally put a for loop and moving it inside the list brackets. We can construct the same list as the one above using the following list comprehension:"
   ]
  },
  {
   "cell_type": "code",
   "execution_count": 3,
   "id": "95f392f9",
   "metadata": {},
   "outputs": [
    {
     "name": "stdout",
     "output_type": "stream",
     "text": [
      "[0, 1, 2, 3, 4, 5, 6, 7, 8, 9, 10, 11, 12, 13, 14, 15, 16, 17, 18, 19, 20, 21, 22, 23, 24, 25, 26, 27, 28, 29, 30, 31, 32, 33, 34, 35, 36, 37, 38, 39, 40, 41, 42, 43, 44, 45, 46, 47, 48, 49, 50, 51, 52, 53, 54, 55, 56, 57, 58, 59, 60, 61, 62, 63, 64, 65, 66, 67, 68, 69, 70, 71, 72, 73, 74, 75, 76, 77, 78, 79, 80, 81, 82, 83, 84, 85, 86, 87, 88, 89, 90, 91, 92, 93, 94, 95, 96, 97, 98, 99, 100]\n"
     ]
    }
   ],
   "source": [
    "my_list2 = [number for number in range(0, 101)]\n",
    "\n",
    "print(my_list2)"
   ]
  },
  {
   "cell_type": "markdown",
   "id": "4650c052",
   "metadata": {},
   "source": [
    "In a list comprehension, the value that you want to append to the list come first, in this case \"number\", followed by a for statement that mirrors the one we used in the for loop version of the code. You can optionally include if clauses after the for clause to filter the results based on some logical check. For instance, we could add an if statement to filter out odd numbers:"
   ]
  },
  {
   "cell_type": "code",
   "execution_count": 4,
   "id": "79b6cad3",
   "metadata": {},
   "outputs": [
    {
     "name": "stdout",
     "output_type": "stream",
     "text": [
      "[0, 2, 4, 6, 8, 10, 12, 14, 16, 18, 20, 22, 24, 26, 28, 30, 32, 34, 36, 38, 40, 42, 44, 46, 48, 50, 52, 54, 56, 58, 60, 62, 64, 66, 68, 70, 72, 74, 76, 78, 80, 82, 84, 86, 88, 90, 92, 94, 96, 98, 100]\n"
     ]
    }
   ],
   "source": [
    "my_list3 = [number for number in range(0, 101) if number % 2 == 0]\n",
    "\n",
    "print(my_list3)"
   ]
  },
  {
   "cell_type": "markdown",
   "id": "a2fd5ef5",
   "metadata": {},
   "source": [
    "In the code above we take all the numbers in the range for which the number modulus 2 (the remainder when divided by 2) is equal to zero, which returns all the even numbers in the range.\n",
    "\n",
    "Note: You could also get even numbers in a range more by including a step argument equal to 2 such as: range(0,101,2)\n",
    "\n",
    "It is possible to put more than one for loop in a list comprehension, such as to construct a list from two different iterables. For instance, if we wanted to make a list of each combination of two letters in two different strings we could do it with a list comprehension over the two strings with two for clauses:"
   ]
  },
  {
   "cell_type": "code",
   "execution_count": 5,
   "id": "4e4c0009",
   "metadata": {},
   "outputs": [
    {
     "name": "stdout",
     "output_type": "stream",
     "text": [
      "['ls', 'lt', 'lu', 'ld', 'ly', 'is', 'it', 'iu', 'id', 'iy', 'fs', 'ft', 'fu', 'fd', 'fy', 'es', 'et', 'eu', 'ed', 'ey']\n"
     ]
    }
   ],
   "source": [
    "combined = [a + b for a in \"life\" for b in \"study\"]\n",
    "\n",
    "print(combined)"
   ]
  },
  {
   "cell_type": "markdown",
   "id": "3dd8c84f",
   "metadata": {},
   "source": [
    "You also can nest one list comprehension inside of another:"
   ]
  },
  {
   "cell_type": "code",
   "execution_count": 8,
   "id": "18f4100b",
   "metadata": {},
   "outputs": [
    {
     "name": "stdout",
     "output_type": "stream",
     "text": [
      "['s', 't', 'u', 'd', 'y', 's', 't', 'u', 'd', 'y', 's', 't', 'u', 'd', 'y', 's', 't', 'u', 'd', 'y']\n"
     ]
    }
   ],
   "source": [
    "nested = [letters[1] for letters in [a + b for a in \"life\" for b in \"study\"]]\n",
    "\n",
    "print(nested)"
   ]
  },
  {
   "cell_type": "markdown",
   "id": "a25c8fae",
   "metadata": {},
   "source": [
    "Notice that while you can nest list comprehensions to achieve a lot in a single line of code, doing so can lead to long, verbose and potentially confusing code. It is often better to avoid the temptation to create convoluted \"one-liners\" when a series of a few shorter, more readable operations will yield the same result:"
   ]
  },
  {
   "cell_type": "code",
   "execution_count": 9,
   "id": "353b5588",
   "metadata": {},
   "outputs": [
    {
     "name": "stdout",
     "output_type": "stream",
     "text": [
      "['s', 't', 'u', 'd', 'y', 's', 't', 'u', 'd', 'y', 's', 't', 'u', 'd', 'y', 's', 't', 'u', 'd', 'y']\n"
     ]
    }
   ],
   "source": [
    "combined = [a + b for a in \"life\" for b in \"study\"]\n",
    "\n",
    "non_nested = [letters[1] for letters in combined]\n",
    "print(non_nested)"
   ]
  },
  {
   "cell_type": "markdown",
   "id": "0dea6229",
   "metadata": {},
   "source": [
    "# Dictionary Comprehensions\n",
    "You can create dictionaries quickly in one line using a syntax that mirrors list comprehensions. Consider the following dictionary that sets words as keys and their lengths as values:"
   ]
  },
  {
   "cell_type": "code",
   "execution_count": 11,
   "id": "9b031832",
   "metadata": {},
   "outputs": [
    {
     "name": "stdout",
     "output_type": "stream",
     "text": [
      "{'life': 4, 'if': 2, 'study': 5}\n"
     ]
    }
   ],
   "source": [
    "words = [\"life\", \"if\", \"study\"]\n",
    "\n",
    "word_length_dict = {}\n",
    "\n",
    "for word in words:\n",
    "    word_length_dict[word] = len(word)\n",
    "print(word_length_dict)"
   ]
  },
  {
   "cell_type": "markdown",
   "id": "1fcdee26",
   "metadata": {},
   "source": [
    "We could make the same dictionary using a dictionary comprehension where the key and value come first in the form key:value, followed a for clause that loops over some sequence:"
   ]
  },
  {
   "cell_type": "code",
   "execution_count": 12,
   "id": "c702ae27",
   "metadata": {},
   "outputs": [
    {
     "name": "stdout",
     "output_type": "stream",
     "text": [
      "{'life': 4, 'is': 2, 'study': 5}\n"
     ]
    }
   ],
   "source": [
    "words = [\"life\", \"is\", \"study\"]\n",
    "word_length_dict2 = {word:len(word) for word in words}\n",
    "\n",
    "print(word_length_dict2)"
   ]
  },
  {
   "cell_type": "markdown",
   "id": "2ef2a3e5",
   "metadata": {},
   "source": [
    "It is common to create a dictionary from the items in two different ordered sequences, where one sequence contains the keys you want to use and the other sequence contains the corresponding values. You can pair the items in two sequences into tuples using the built in Python function zip():"
   ]
  },
  {
   "cell_type": "code",
   "execution_count": 14,
   "id": "94185407",
   "metadata": {},
   "outputs": [
    {
     "name": "stdout",
     "output_type": "stream",
     "text": [
      "('life', 4)\n",
      "('is', 2)\n",
      "('study', 5)\n"
     ]
    }
   ],
   "source": [
    "words = [\"life\", \"is\", \"study\"]\n",
    "word_lengths = [4,2,5]\n",
    "pairs = zip(words, word_lengths)\n",
    "\n",
    "for item in pairs:\n",
    "    print(item)"
   ]
  },
  {
   "cell_type": "markdown",
   "id": "a72e4c5f",
   "metadata": {},
   "source": [
    "Using zip inside a dictionary comprehension lets you extract key:value pairs from two sequences:"
   ]
  },
  {
   "cell_type": "code",
   "execution_count": 15,
   "id": "08a2f493",
   "metadata": {},
   "outputs": [
    {
     "name": "stdout",
     "output_type": "stream",
     "text": [
      "{'life': 4, 'is': 2, 'study': 5}\n"
     ]
    }
   ],
   "source": [
    "words = [\"life\", \"is\", \"study\"]\n",
    "word_lengths = [4,2,5]\n",
    "\n",
    "word_length_dict3 = {key:value for (key, value) in zip(words, word_lengths)}\n",
    "\n",
    "print(word_length_dict3)"
   ]
  },
  {
   "cell_type": "code",
   "execution_count": null,
   "id": "0ca525b1",
   "metadata": {},
   "outputs": [],
   "source": []
  }
 ],
 "metadata": {
  "kernelspec": {
   "display_name": "Python 3 (ipykernel)",
   "language": "python",
   "name": "python3"
  },
  "language_info": {
   "codemirror_mode": {
    "name": "ipython",
    "version": 3
   },
   "file_extension": ".py",
   "mimetype": "text/x-python",
   "name": "python",
   "nbconvert_exporter": "python",
   "pygments_lexer": "ipython3",
   "version": "3.11.0"
  }
 },
 "nbformat": 4,
 "nbformat_minor": 5
}
