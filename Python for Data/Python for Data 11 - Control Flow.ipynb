{
 "cells": [
  {
   "cell_type": "markdown",
   "id": "bfe43fd8",
   "metadata": {},
   "source": [
    "Although Python is a popular tool for data analysis, it is a general-purpose programming language that wasn't designed specifically for that task. It is important to know some basic Python programming constructs so that you can write custom code and functions to handle situations where built in functions and libraries fall short.\n",
    "\n",
    "When you run code in Python, each statement is executed in the order in which they appear. Programming languages like Python let you change the order in which code executes, allowing you to skip statements or run certain statements over and over again. Programming constructs that let you alter the order in which code executes are known as control flow statements."
   ]
  },
  {
   "cell_type": "markdown",
   "id": "49d9401e",
   "metadata": {},
   "source": [
    "# If, Else and Elif"
   ]
  },
  {
   "cell_type": "markdown",
   "id": "ea7fc917",
   "metadata": {},
   "source": [
    "The most basic control flow statement in Python is the \"if\" statement. An if statement checks whether some logical expression evaluates to true or false and then executes a code block if the expression is true.\n",
    "\n",
    "In Python, an if statement starts with if, followed by a logical expression and a colon. The code to execute if the logical expression is true appears on the next line, indented from the if statement above it by 4 spaces:"
   ]
  },
  {
   "cell_type": "code",
   "execution_count": 1,
   "id": "920d9b7b",
   "metadata": {},
   "outputs": [
    {
     "name": "stdout",
     "output_type": "stream",
     "text": [
      "x is greater than y\n"
     ]
    }
   ],
   "source": [
    "x = 10\n",
    "y = 5\n",
    "if x > y:\n",
    "    print(\"x is greater than y\")"
   ]
  },
  {
   "cell_type": "markdown",
   "id": "05520fb0",
   "metadata": {},
   "source": [
    "In the code above, the logical expression was true--x is greater than y--so the print(x) statement was executed.\n",
    "\n",
    "If statements are often accompanied by else statements. Else statements come after if statements and execute code in the event that logical expression checked by an if statement is false:"
   ]
  },
  {
   "cell_type": "code",
   "execution_count": 3,
   "id": "08a10258",
   "metadata": {},
   "outputs": [
    {
     "name": "stdout",
     "output_type": "stream",
     "text": [
      "y is greater than x\n"
     ]
    }
   ],
   "source": [
    "y = 25\n",
    "x = 10\n",
    "\n",
    "if x > y:\n",
    "    print(\"x is greater than y\")\n",
    "else:\n",
    "    print(\"y is greater than x\")"
   ]
  },
  {
   "cell_type": "code",
   "execution_count": 4,
   "id": "79d5b023",
   "metadata": {},
   "outputs": [
    {
     "name": "stdout",
     "output_type": "stream",
     "text": [
      "x and y are equal!\n"
     ]
    }
   ],
   "source": [
    "y = 10\n",
    "\n",
    "if x > y:\n",
    "    print(\"x is greater than y\")\n",
    "elif x == y:\n",
    "    print(\"x and y are equal!\")\n",
    "else:\n",
    "    print(\"y is greater than x\")"
   ]
  },
  {
   "cell_type": "markdown",
   "id": "933ed5db",
   "metadata": {},
   "source": [
    "# For Loops\n",
    "For loops are a programming construct that let you go through each item in a sequence and then perform some operation on each one. For instance, you could use a for loop to go through all the values in a list, tuple, dictionary or series and check whether each conforms to some logical expression or print the value to the console.\n",
    "\n",
    "Create a for loop using the following syntax:"
   ]
  },
  {
   "cell_type": "code",
   "execution_count": 5,
   "id": "bdfdcc7b",
   "metadata": {},
   "outputs": [
    {
     "name": "stdout",
     "output_type": "stream",
     "text": [
      "0\n",
      "10\n",
      "20\n",
      "30\n",
      "40\n",
      "50\n",
      "60\n",
      "70\n",
      "80\n",
      "90\n",
      "100\n"
     ]
    }
   ],
   "source": [
    "my_sequence = list(range(0,101,10))\n",
    "\n",
    "for number in my_sequence:\n",
    "    print(number)"
   ]
  },
  {
   "cell_type": "markdown",
   "id": "015718da",
   "metadata": {},
   "source": [
    "In each iteration of the loop, the variable \"number\" takes on the value of the next item in the sequence.\n",
    "\n",
    "For loops support a few special keywords that help you control the flow of the loop: continue and break.\n",
    "\n",
    "The continue keyword causes a for loop to skip the current iteration and go to the next one:"
   ]
  },
  {
   "cell_type": "code",
   "execution_count": 6,
   "id": "407940aa",
   "metadata": {},
   "outputs": [
    {
     "name": "stdout",
     "output_type": "stream",
     "text": [
      "50\n",
      "60\n",
      "70\n",
      "80\n",
      "90\n",
      "100\n"
     ]
    }
   ],
   "source": [
    "for number in my_sequence:\n",
    "    if number < 50:\n",
    "        continue\n",
    "    print(number)"
   ]
  },
  {
   "cell_type": "markdown",
   "id": "fe65b0de",
   "metadata": {},
   "source": [
    "The \"break\" keyword halts the execution of a for loop entirely. Use break to \"break out\" of a loop:"
   ]
  },
  {
   "cell_type": "code",
   "execution_count": 8,
   "id": "6bf7ff24",
   "metadata": {},
   "outputs": [
    {
     "name": "stdout",
     "output_type": "stream",
     "text": [
      "0\n",
      "10\n",
      "20\n",
      "30\n",
      "40\n",
      "50\n"
     ]
    }
   ],
   "source": [
    "for number in my_sequence:\n",
    "    if number > 50:\n",
    "        break\n",
    "    print(number)"
   ]
  },
  {
   "cell_type": "markdown",
   "id": "69c94271",
   "metadata": {},
   "source": [
    "# While Loops\n",
    "While loops are similar to for loops in that they allow you to execute code over and over again. For loops execute their contents, at most, a number of iterations equal to the length of the sequence you are looping over. While loops, on the other hand, keep executing their contents as long as a logical expression you supply remains true:"
   ]
  },
  {
   "cell_type": "code",
   "execution_count": 9,
   "id": "eaf719b8",
   "metadata": {},
   "outputs": [
    {
     "name": "stdout",
     "output_type": "stream",
     "text": [
      "Study\n",
      "Study\n",
      "Study\n",
      "Study\n",
      "Study\n"
     ]
    }
   ],
   "source": [
    "x = 5\n",
    "iters = 0\n",
    "\n",
    "while iters < x:\n",
    "    print(\"Study\")\n",
    "    iters += 1"
   ]
  },
  {
   "cell_type": "markdown",
   "id": "0c003e42",
   "metadata": {},
   "source": [
    "While loops can get you into trouble because they keep executing until the logical statement provided is false. If you supply a logical statement that will never become false and don't provide a way to break out of the while loop, it will run forever. For instance, if the while loop above didn't include the statement incrementing the value of iters by 1, the logical statement would never become false and the code would run forever. Infinite while loops are a common cause of program crashes.\n",
    "\n",
    "The continue and break statements work inside while loops just like they do in for loops. You can use the break statement to escape a while loop even if the logical expression you supplied is true. Consider the following while loop:"
   ]
  },
  {
   "cell_type": "code",
   "execution_count": 10,
   "id": "99315363",
   "metadata": {},
   "outputs": [
    {
     "name": "stdout",
     "output_type": "stream",
     "text": [
      "Study\n"
     ]
    }
   ],
   "source": [
    "while True:\n",
    "    print(\"Study\")\n",
    "    break"
   ]
  },
  {
   "cell_type": "markdown",
   "id": "010a7bf7",
   "metadata": {},
   "source": [
    "It is important to make sure while loops contain a logical expression that will eventually be false or a break statement that will eventually be executed to avoid infinite loops.\n",
    "\n",
    "Although you can use a while loop to do anything a for loop can do, it is best to use for loops whenever you want to perform a specific number of operations, such as when running some code on each item in a sequence. While loops should be reserved for cases where you don't know how many times you will need to execute a loop."
   ]
  },
  {
   "cell_type": "markdown",
   "id": "31d237f7",
   "metadata": {},
   "source": [
    "# The np.where() Function\n",
    "\n",
    "Although it is important to be able to create your own if/else statements and loops when you need to, numpy's vectorized nature means you can often avoid using such programming constructs. Whenever you want to perform the same operation to each object in a numpy or pandas data structure, there's often a way to do it efficiently without writing your own loops and if statements.\n",
    "\n",
    "For example, imagine you have a sequence of numbers and you want to set all the negative values in the sequence to zero. One way to do it is to use a for loop with an inner if statement:"
   ]
  },
  {
   "cell_type": "code",
   "execution_count": 13,
   "id": "7ae9a89d",
   "metadata": {},
   "outputs": [
    {
     "name": "stdout",
     "output_type": "stream",
     "text": [
      "[0.         0.63228655 0.48475184 0.         0.         0.\n",
      " 0.         0.         0.         0.51269444 0.46415056 0.\n",
      " 0.         0.         0.         0.         0.         0.19218278\n",
      " 0.0169503  0.9652956  0.07414388 0.39601417 0.         0.53786669\n",
      " 0.31872129]\n"
     ]
    }
   ],
   "source": [
    "import numpy as np\n",
    "\n",
    "# Draw 25 random numbers from -1 to 1\n",
    "my_data = np.random.uniform(-1,1,25)\n",
    "\n",
    "for index, number in enumerate(my_data):\n",
    "    if number < 0:\n",
    "        my_data[index] = 0  # Set numbers less than 0 to 0\n",
    "        \n",
    "print(my_data)"
   ]
  },
  {
   "cell_type": "markdown",
   "id": "4ca52fb9",
   "metadata": {},
   "source": [
    "Note: \"enumerate\" takes a sequence and turns it into a sequence of (index, value) tuples; enumerate() lets you loop over the items in a sequence while also having access the item's index.\n",
    "\n",
    "Using a for loop to perform this sort of operation requires writing quite a bit of code and for loops are not particularly fast because they have to operate on each item in a sequence one at a time.\n",
    "\n",
    "Numpy includes a function called where() that lets you perform an if/else check on a sequence with less code:"
   ]
  },
  {
   "cell_type": "code",
   "execution_count": 14,
   "id": "2fc42c37",
   "metadata": {},
   "outputs": [
    {
     "name": "stdout",
     "output_type": "stream",
     "text": [
      "[0.87055944 0.1588399  0.82416183 0.         0.         0.\n",
      " 0.         0.7489911  0.         0.         0.97443271 0.\n",
      " 0.         0.         0.29278055 0.         0.07657352 0.\n",
      " 0.75560702 0.         0.         0.91091281 0.         0.30296432\n",
      " 0.        ]\n"
     ]
    }
   ],
   "source": [
    "my_data = np.random.uniform(-1,1,25) # Generate new random numbers\n",
    "\n",
    "my_data = np.where(my_data < 0, #A logical test\n",
    "                   0, # Value to set if the test is true\n",
    "                   my_data) # Value to set if the test is false\n",
    "\n",
    "print(my_data)"
   ]
  },
  {
   "cell_type": "markdown",
   "id": "00e4ba43",
   "metadata": {},
   "source": [
    "Not only is np.where() more concise than a for loop, it is also much more computationally efficient."
   ]
  },
  {
   "cell_type": "code",
   "execution_count": null,
   "id": "1c8a26fe",
   "metadata": {},
   "outputs": [],
   "source": []
  }
 ],
 "metadata": {
  "kernelspec": {
   "display_name": "Python 3 (ipykernel)",
   "language": "python",
   "name": "python3"
  },
  "language_info": {
   "codemirror_mode": {
    "name": "ipython",
    "version": 3
   },
   "file_extension": ".py",
   "mimetype": "text/x-python",
   "name": "python",
   "nbconvert_exporter": "python",
   "pygments_lexer": "ipython3",
   "version": "3.11.0"
  }
 },
 "nbformat": 4,
 "nbformat_minor": 5
}
