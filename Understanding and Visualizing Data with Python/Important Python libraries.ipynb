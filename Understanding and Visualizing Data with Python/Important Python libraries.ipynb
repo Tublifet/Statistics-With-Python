{
 "cells": [
  {
   "cell_type": "markdown",
   "id": "653982c7",
   "metadata": {},
   "source": [
    "# Numpy\n",
    "Numpy is the fundamental package for scientific computing with Python. It contains among other things:\n",
    "\n",
    "- A powerful N-dimentional array object\n",
    "- Sophisticated (broadcasting) functions\n",
    "- Tools for integrating C/C++ and Fortran code\n",
    "- Useful linear algebra, Fourter transform, and random number capabillities\n",
    "\n",
    "We will focus on the numpy arrray object"
   ]
  },
  {
   "cell_type": "markdown",
   "id": "6fad7dc3",
   "metadata": {},
   "source": [
    "# Numpy array\n",
    "A numpy array is a grid of values, all of the same tyoe, and is indexed by a tuple of nonnegative integers. The number of dimentions is the rank of array, the shape of an array is a tuple of integers giving the size of the array along each dimention."
   ]
  },
  {
   "cell_type": "code",
   "execution_count": 4,
   "id": "ebe411e4",
   "metadata": {},
   "outputs": [],
   "source": [
    "import numpy as np"
   ]
  },
  {
   "cell_type": "code",
   "execution_count": 6,
   "id": "4402f28d",
   "metadata": {},
   "outputs": [
    {
     "name": "stdout",
     "output_type": "stream",
     "text": [
      "<class 'numpy.ndarray'>\n"
     ]
    }
   ],
   "source": [
    "a = np.array([1,2,3])\n",
    "print(type(a))"
   ]
  },
  {
   "cell_type": "code",
   "execution_count": 7,
   "id": "13cc04d8",
   "metadata": {},
   "outputs": [
    {
     "name": "stdout",
     "output_type": "stream",
     "text": [
      "(3,)\n"
     ]
    }
   ],
   "source": [
    "print(np.shape(a))"
   ]
  },
  {
   "cell_type": "code",
   "execution_count": 10,
   "id": "1370cb9b",
   "metadata": {},
   "outputs": [
    {
     "name": "stdout",
     "output_type": "stream",
     "text": [
      "[[1 2]\n",
      " [3 4]]\n",
      "(2, 2)\n"
     ]
    },
    {
     "data": {
      "text/plain": [
       "3"
      ]
     },
     "execution_count": 10,
     "metadata": {},
     "output_type": "execute_result"
    }
   ],
   "source": [
    "b = np.array([[1,2],[3,4]])\n",
    "print(b)\n",
    "print(np.shape(b))\n",
    "b[1,0]"
   ]
  },
  {
   "cell_type": "code",
   "execution_count": 11,
   "id": "3050c889",
   "metadata": {},
   "outputs": [
    {
     "name": "stdout",
     "output_type": "stream",
     "text": [
      "[[0. 0.]\n",
      " [0. 0.]\n",
      " [0. 0.]]\n"
     ]
    }
   ],
   "source": [
    "c = np.zeros((3,2))\n",
    "print(c)"
   ]
  },
  {
   "cell_type": "code",
   "execution_count": 14,
   "id": "aa261e08",
   "metadata": {},
   "outputs": [
    {
     "name": "stdout",
     "output_type": "stream",
     "text": [
      "[[1. 1.]\n",
      " [1. 1.]\n",
      " [1. 1.]]\n"
     ]
    }
   ],
   "source": [
    "d = np.ones((3,2))\n",
    "print(d)"
   ]
  },
  {
   "cell_type": "code",
   "execution_count": 16,
   "id": "719fe81f",
   "metadata": {},
   "outputs": [
    {
     "name": "stdout",
     "output_type": "stream",
     "text": [
      "[[9 9 9]\n",
      " [9 9 9]\n",
      " [9 9 9]]\n"
     ]
    }
   ],
   "source": [
    "e = np.full((3,3), 9)\n",
    "print(e)"
   ]
  },
  {
   "cell_type": "code",
   "execution_count": 18,
   "id": "0d4d5b77",
   "metadata": {},
   "outputs": [
    {
     "name": "stdout",
     "output_type": "stream",
     "text": [
      "[[0.78754706 0.83946072 0.94137351]\n",
      " [0.91772038 0.08943646 0.53517555]\n",
      " [0.75214866 0.23820127 0.96886211]]\n"
     ]
    }
   ],
   "source": [
    "g = np.random.random((3,3))\n",
    "print(g)"
   ]
  },
  {
   "cell_type": "code",
   "execution_count": 33,
   "id": "fe8cb411",
   "metadata": {},
   "outputs": [
    {
     "name": "stdout",
     "output_type": "stream",
     "text": [
      "[[ 1  2  3  4]\n",
      " [ 5  6  7  8]\n",
      " [ 9 10 11 12]]\n"
     ]
    }
   ],
   "source": [
    "h = np.array([[1,2,3,4],[5,6,7,8],[9,10,11,12]])\n",
    "print(h)"
   ]
  },
  {
   "cell_type": "code",
   "execution_count": 34,
   "id": "3b00b2bc",
   "metadata": {},
   "outputs": [
    {
     "name": "stdout",
     "output_type": "stream",
     "text": [
      "[[2 3]\n",
      " [6 7]]\n"
     ]
    }
   ],
   "source": [
    "h = h[:2,1:3] #:2 is range of row , 1:3 is range of column\n",
    "print(h)"
   ]
  },
  {
   "cell_type": "code",
   "execution_count": 36,
   "id": "90cca5a6",
   "metadata": {},
   "outputs": [
    {
     "name": "stdout",
     "output_type": "stream",
     "text": [
      "[[ 1  2  3  4]\n",
      " [ 5  6  7  8]\n",
      " [ 9 10 11 12]]\n"
     ]
    }
   ],
   "source": [
    "h = np.array([[1,2,3,4],[5,6,7,8],[9,10,11,12]])\n",
    "i = h[:2,1:3]\n",
    "print(h)"
   ]
  },
  {
   "cell_type": "code",
   "execution_count": 37,
   "id": "dded4ffd",
   "metadata": {},
   "outputs": [
    {
     "name": "stdout",
     "output_type": "stream",
     "text": [
      "[[2 3]\n",
      " [6 7]]\n"
     ]
    }
   ],
   "source": [
    "print(i)"
   ]
  },
  {
   "cell_type": "code",
   "execution_count": 38,
   "id": "573f68f1",
   "metadata": {},
   "outputs": [
    {
     "name": "stdout",
     "output_type": "stream",
     "text": [
      "[[  1 500   3   4]\n",
      " [  5   6   7   8]\n",
      " [  9  10  11  12]]\n"
     ]
    }
   ],
   "source": [
    "i[0,0] = 500\n",
    "print(h)"
   ]
  },
  {
   "cell_type": "markdown",
   "id": "bec19f6a",
   "metadata": {},
   "source": [
    "# Datatypes in Arrays"
   ]
  },
  {
   "cell_type": "code",
   "execution_count": 43,
   "id": "c5612f70",
   "metadata": {},
   "outputs": [
    {
     "name": "stdout",
     "output_type": "stream",
     "text": [
      "int32\n",
      "float64\n",
      "int32\n"
     ]
    }
   ],
   "source": [
    "j = np.array([1,2])\n",
    "print(j.dtype)\n",
    "k = np.array([1.0,2.0])\n",
    "print(k.dtype)\n",
    "l = np.array([1.0,2.0], dtype = np.int32)\n",
    "print(l.dtype)"
   ]
  },
  {
   "cell_type": "markdown",
   "id": "6ec58b37",
   "metadata": {},
   "source": [
    "# Array Math\n",
    "Basic mathematical functions operate elementwise on arrays, and are available both as operator overloads and as function in the numpy module:"
   ]
  },
  {
   "cell_type": "code",
   "execution_count": 46,
   "id": "9f475091",
   "metadata": {},
   "outputs": [
    {
     "name": "stdout",
     "output_type": "stream",
     "text": [
      "[[ 6.  8.]\n",
      " [10. 12.]]\n",
      "[[-4. -4.]\n",
      " [-4. -4.]]\n",
      "[[ 5. 12.]\n",
      " [21. 32.]]\n",
      "[[0.2        0.33333333]\n",
      " [0.42857143 0.5       ]]\n",
      "[[1.         1.41421356]\n",
      " [1.73205081 2.        ]]\n"
     ]
    }
   ],
   "source": [
    "x =np.array([[1,2], [3,4]], dtype = np.float64)\n",
    "y =np.array([[5,6], [7,8]], dtype = np.float64)\n",
    "print(x + y)\n",
    "print(x - y)\n",
    "print(x * y)\n",
    "print(x / y)\n",
    "print(np.sqrt(x))"
   ]
  },
  {
   "cell_type": "code",
   "execution_count": 48,
   "id": "b02755e0",
   "metadata": {},
   "outputs": [
    {
     "data": {
      "text/plain": [
       "array([4., 6.])"
      ]
     },
     "execution_count": 48,
     "metadata": {},
     "output_type": "execute_result"
    }
   ],
   "source": [
    "np.sum(x)\n",
    "\n",
    "np.sum(x, axis = 0)\n"
   ]
  },
  {
   "cell_type": "code",
   "execution_count": 49,
   "id": "a36758c1",
   "metadata": {},
   "outputs": [
    {
     "data": {
      "text/plain": [
       "array([3., 7.])"
      ]
     },
     "execution_count": 49,
     "metadata": {},
     "output_type": "execute_result"
    }
   ],
   "source": [
    "np.sum(x, axis = 1)"
   ]
  },
  {
   "cell_type": "markdown",
   "id": "02f28fad",
   "metadata": {},
   "source": [
    "# SciPy\n",
    "Numpy provides a high-performance multidimensional array and basic tools to compute with and manipulate these arrays. SciPy builds on this, and provides a large number of functions that operate on numpy arrays and are useful for different types of scientific and engineering applications.\n",
    "\n",
    "For this course, we will primarily be using the SciPy.Stats sub-library.\n",
    "\n",
    "# SciPy.Stats\n",
    "The SciPy.Stats module contains a large number of probability distributions as well as a growing library of statistical functions such as:\n",
    "\n",
    "- Continuous and Discrete Distributions (i.e Normal, Uniform, Binomal, etc)\n",
    "- Descriptive Statistics\n",
    "- Statistical Tests (i.e Test)"
   ]
  },
  {
   "cell_type": "code",
   "execution_count": 7,
   "id": "22a2b5e6",
   "metadata": {},
   "outputs": [],
   "source": [
    "from scipy import stats\n",
    "import numpy as np"
   ]
  },
  {
   "cell_type": "code",
   "execution_count": 15,
   "id": "6e555151",
   "metadata": {
    "scrolled": true
   },
   "outputs": [
    {
     "name": "stdout",
     "output_type": "stream",
     "text": [
      "[-1.13393248e+00  9.32906988e-01 -6.11639487e-02 -1.78087036e+00\n",
      " -7.45574956e-01  1.81374177e-01 -4.78816815e-01 -8.11308655e-01\n",
      "  4.82485812e-01 -2.15406793e-01  6.68617609e-02 -8.62914545e-01\n",
      "  3.13209860e-01  1.81512707e-01 -3.49746502e-01 -1.60449379e+00\n",
      "  2.38793579e-01  1.56658841e+00  7.51145438e-01 -3.28277346e-01\n",
      " -1.57255162e+00 -7.57401118e-01  1.33030939e+00 -5.17464239e-01\n",
      "  5.53514567e-02 -5.84024745e-01  2.48471923e-01 -5.06104416e-01\n",
      "  9.61279704e-02  2.63118115e-01  2.98390636e-01  5.11765503e-01\n",
      " -9.38073415e-01 -4.04007532e-02  6.57640335e-01  4.86458645e-01\n",
      " -5.44767528e-01 -4.18275362e-01  2.87097249e-01  1.49815667e+00\n",
      "  5.42824821e-01  7.70251727e-01  1.13167788e+00  6.77031209e-01\n",
      " -9.12444611e-01  1.18733141e+00  2.96517207e-02  7.75830575e-01\n",
      " -7.95318325e-01 -8.45327143e-01  1.43570354e+00  1.43409104e-02\n",
      " -8.26392579e-01 -2.55187425e-01 -4.52750946e-01 -8.70382353e-01\n",
      " -1.94769643e+00 -1.49443568e+00 -2.28331107e-01  1.31664828e+00\n",
      " -1.48991698e+00 -4.16124376e-01  6.62836139e-01 -2.58036349e-01\n",
      "  6.20260966e-01  1.70455240e+00  1.88285781e+00 -2.61210126e-01\n",
      " -5.78602649e-01 -6.01543676e-01 -1.12328024e+00 -9.32027395e-01\n",
      "  8.61339423e-01 -6.13028899e-01  1.94906921e+00 -2.83934648e-01\n",
      "  1.63089070e-01 -3.16892740e+00  9.87303130e-01  2.90791164e-01\n",
      " -1.27393986e+00  3.81119323e-01  1.37047455e+00  2.91316495e-02\n",
      "  7.96605136e-01  1.56834394e+00 -1.88136467e-01  1.68887540e+00\n",
      " -2.21362230e+00  2.05293587e-01 -9.20213214e-01 -1.19860176e+00\n",
      "  1.30415600e+00 -2.35754812e-02  1.54437970e+00 -1.37215895e-01\n",
      "  5.43764782e-01  7.96621611e-01 -1.91515663e+00  7.55847327e-01\n",
      "  1.75059245e-01  1.01690767e+00  6.71082845e-01 -5.24363538e-02\n",
      " -1.07151979e+00 -3.29128202e-01 -1.18692864e+00 -1.74378318e-01\n",
      " -1.16043953e-01  1.95460884e+00 -1.41091284e+00 -9.53187455e-01\n",
      "  2.21178790e-01  1.01514156e+00 -3.26999916e+00 -1.53056383e+00\n",
      " -1.19738071e-01  6.85585320e-02  1.35400999e+00  4.71337065e-01\n",
      "  6.30522078e-01  1.51977344e-01 -2.09652241e-01  4.66601446e-01\n",
      "  1.00244675e+00  1.15063807e+00  4.74062182e-01  1.02178959e+00\n",
      "  2.88627197e-01  6.32661052e-01  1.78040874e+00  1.67656536e+00\n",
      "  3.32849182e+00 -3.01513437e-01 -9.64923154e-01 -9.03426369e-02\n",
      " -8.30041849e-04  7.58593548e-01  1.27999509e+00 -4.92967790e-01\n",
      "  6.39834304e-01 -4.69945566e-01  2.11043523e+00 -1.05813372e+00\n",
      " -7.43742214e-01 -1.02509037e+00  7.69062197e-01  2.20197946e-02\n",
      " -1.00046147e+00  1.10143012e-01  5.80696620e-01  6.92539208e-02\n",
      " -1.78803573e+00 -1.84938410e+00  1.59201259e+00 -2.68678529e-01\n",
      "  2.17735472e-01  1.36189767e+00  7.72330069e-01  8.36148433e-01\n",
      "  1.46757059e+00 -1.24830841e-01 -1.31795115e+00  1.14636079e+00\n",
      "  1.92499146e+00 -1.27211442e+00 -1.05568190e+00  2.43002440e-01\n",
      "  7.36015240e-01  6.64658929e-01  3.80360577e-01 -1.65867490e+00\n",
      " -9.87162428e-01  6.30187953e-01  1.01583320e+00  1.27879785e+00\n",
      " -1.26897722e+00  1.56615416e+00  9.72424512e-01  2.85095246e-01\n",
      "  9.55471210e-02 -3.58559566e-01 -1.31505684e+00 -2.19861933e-02\n",
      "  1.34298636e+00  1.23960521e+00 -1.34637268e+00 -6.49431435e-01\n",
      " -4.16906110e-02 -6.58013077e-03  1.96936231e+00  2.24429839e-01\n",
      "  2.97197231e-01  4.77545693e-01  1.69789071e+00 -7.04901465e-01\n",
      "  8.08204598e-01 -5.14046690e-02 -1.31852815e+00  5.41137572e-01\n",
      " -6.64692788e-01  1.45492130e+00  2.24940787e-01 -6.88001832e-02\n",
      " -9.64179476e-01  7.84924814e-01 -5.93903475e-02  2.90140322e-01\n",
      " -5.21730556e-01  1.68162577e+00  8.84696953e-01  1.85657073e-02\n",
      " -1.35441414e+00 -2.26705938e-01 -1.65877602e-01  1.14753243e+00\n",
      " -1.36427380e+00  9.74312096e-01  1.70456620e+00 -1.41959479e+00\n",
      " -1.03644667e+00 -4.03839622e-01  4.07316314e-01 -2.62361124e-01\n",
      "  1.32810603e+00  2.45067350e-01 -2.12679854e+00 -1.28201761e+00\n",
      " -4.02933664e-01  1.65500239e+00  8.07545863e-01 -7.79157445e-01\n",
      " -1.95622500e+00  2.95304797e-01 -3.46820378e-01 -4.11302841e-01\n",
      " -2.78743955e+00 -1.11970057e-01 -5.46084869e-02  3.39512115e-01\n",
      " -8.78899712e-02  7.02480111e-01  4.23782733e-01 -1.37724357e+00\n",
      "  1.86368212e+00  5.01408301e-01 -1.78910902e+00  1.20968979e-01\n",
      " -1.01430653e-01 -3.83913336e-01  1.80691958e+00 -5.92029300e-01\n",
      "  6.75299772e-01  1.23076053e+00  1.08148324e-01  7.57044919e-01\n",
      "  6.44526060e-01  9.12776218e-01 -1.62840064e+00  4.21889503e-01\n",
      "  4.31814747e-01 -8.34059566e-01  1.29889452e+00  2.03996699e+00\n",
      "  1.60683706e+00  1.00606598e+00  8.58581846e-01  1.89558404e+00\n",
      " -3.35304903e-01 -5.42255637e-01  2.31157483e-01 -1.15199310e+00\n",
      " -1.77693306e-01  2.37690870e+00 -4.66373246e-01  1.16104997e+00\n",
      " -4.30141521e-01  2.09283744e-01  1.44412970e+00  4.07902859e-02\n",
      " -1.11464913e+00 -5.14832915e-01  1.97884211e+00 -1.43696932e+00\n",
      "  7.86124012e-02  5.82548465e-01  1.15019933e+00 -3.90659177e-01\n",
      "  4.10591439e-01  1.38531294e+00  1.23792058e+00  8.93284668e-01\n",
      " -1.80252413e+00  1.46608987e+00 -4.75189627e-01  9.77278365e-01\n",
      " -2.69980474e-01 -1.21025323e-01 -2.81210830e-01 -8.78695394e-02\n",
      "  1.24170248e+00  1.01651439e-01 -7.39862997e-01  1.33628777e-01\n",
      "  7.48739583e-01 -2.88851142e-01  7.93993537e-01  9.82804443e-01\n",
      "  5.95005380e-02 -4.79253108e-01  3.17195953e-01 -2.46768053e+00\n",
      "  3.79185347e-01  2.64541318e+00 -8.44900801e-01  1.02306902e+00\n",
      " -7.14903210e-01 -1.24999063e-01 -2.15445370e-01 -8.62771697e-01\n",
      " -1.23096779e+00  9.56152143e-01 -4.81389156e-01  1.02989534e+00\n",
      "  1.82566433e-01 -6.35148623e-01 -1.41404954e-01  7.77943530e-01\n",
      "  2.11274763e+00  8.65561856e-01 -3.50395911e-01  1.42506414e+00\n",
      "  4.01802816e-01  1.07766697e+00  1.81844442e-01  1.71206858e+00\n",
      "  1.17597151e+00  1.24825979e+00  5.09364146e-01  1.46381101e+00\n",
      "  4.47171595e-01  5.29705504e-01  8.56425544e-01 -3.14307716e+00\n",
      "  6.55807946e-01  1.62115838e-01 -5.32932275e-01 -1.05354266e+00\n",
      "  1.40885289e+00  7.52409516e-01  2.11631626e-01 -2.89267376e-01\n",
      "  2.06056165e+00  4.78202079e-02  1.26485115e-01  2.56617146e-01\n",
      " -2.43793633e+00  1.53831612e+00  1.40719310e+00 -7.15140748e-01\n",
      "  2.30306481e-01  2.78628515e-01 -1.34908623e+00  5.17193019e-01\n",
      " -3.12552193e-01 -6.37437716e-01 -7.96501890e-01  1.23911371e-01\n",
      "  2.31220171e-01  1.57280498e-01 -3.46026101e-01  2.02091912e+00\n",
      " -4.55158866e-01 -4.41026873e-01 -1.48733566e+00 -1.40620817e+00\n",
      "  2.24828071e+00  4.31257596e-01  4.68431114e-01 -8.05480111e-01\n",
      "  7.67070125e-01  3.71069534e-01  1.14662312e+00 -2.63705491e-01\n",
      " -2.83041114e-01  4.86824960e-01 -1.45788289e+00 -1.21088489e+00\n",
      " -1.87360594e-01  1.81258636e+00  2.30710507e+00 -6.30066658e-01\n",
      "  9.62637389e-01  1.19828772e-01  4.21716897e-01 -1.03273859e+00\n",
      "  2.00818197e-01 -1.17041271e-01  1.73281129e-01  5.32112245e-01\n",
      "  9.00707710e-02 -2.71584237e-01 -8.48955489e-01 -4.00280565e-01\n",
      " -5.13508351e-01 -2.36323637e-01  3.08398046e+00  7.18603687e-02\n",
      "  1.33901907e+00 -9.14511600e-01  1.02468590e+00 -3.63919608e-01\n",
      " -7.68509119e-01 -6.71353294e-01  8.38771901e-01 -1.06290524e+00\n",
      "  3.73248944e-01 -1.74390458e+00  2.25842767e-02 -7.96738909e-01\n",
      " -1.85708364e+00  6.87910760e-01  9.71890802e-01 -2.31535580e-02\n",
      "  1.66774169e+00 -1.73595016e+00 -1.60826871e+00 -1.53664284e-01\n",
      " -1.01467089e+00 -1.35713577e+00 -5.83024117e-03 -1.16129540e+00\n",
      " -1.81570037e+00  7.81198447e-01 -1.08905304e+00  4.93172938e-01\n",
      " -1.40886883e+00 -8.58334244e-01  8.24195474e-01 -7.85829081e-01\n",
      "  4.13045157e-01 -6.34984371e-02  3.91093493e-02 -3.63521398e-01\n",
      "  9.75383017e-02  4.31182562e-02 -1.30552819e+00 -1.73888575e+00\n",
      " -4.82745612e-01 -9.06151032e-01  8.14458247e-02  2.73296556e+00\n",
      " -6.00505490e-01  1.05911854e+00  1.77636726e+00 -7.62287779e-01\n",
      " -1.18894879e+00 -1.14904037e+00  1.62039679e+00 -2.84438273e-01\n",
      "  1.45273465e+00  1.64764620e+00 -3.61323614e-01  5.15912710e-01\n",
      " -9.93112606e-02  4.33412773e-02 -1.90420983e+00  1.26850610e+00\n",
      "  1.81807322e+00 -1.31503706e+00  2.90556859e-01  1.31837246e+00\n",
      " -1.48770227e-01 -8.26262270e-02 -1.23565050e+00  8.93590532e-01\n",
      "  2.03470607e-01  8.12684181e-01  5.97995904e-01 -9.97587572e-01\n",
      "  7.40791826e-01  4.14719921e-01  6.96391413e-01  3.90416291e-01\n",
      "  3.70627003e-01  3.43548193e-01  1.13221516e+00 -1.18271105e+00\n",
      " -6.53011582e-01  1.26299908e+00  3.98498706e+00  1.58083228e+00\n",
      " -5.55358457e-01 -7.81341090e-01  3.75440162e-01  1.51761956e-01\n",
      "  7.38320598e-01 -1.30700129e-01  3.14607586e+00  1.01059527e+00\n",
      "  9.95789253e-02  9.56090102e-01  2.34300680e-01 -5.69297111e-01\n",
      " -1.01715977e-01  2.39375607e+00  1.86517686e-01  1.21202692e+00\n",
      " -1.22189098e+00 -3.05318067e-01 -2.86478030e-01 -7.43269735e-01\n",
      " -8.84054882e-01 -1.46915698e+00 -2.18127885e+00  4.09810935e-02\n",
      " -6.04311670e-01 -3.33300900e-01 -5.11853906e-01 -1.70413954e-01\n",
      " -3.10904939e-02  2.40366522e-01 -5.41456138e-01 -1.14195573e+00\n",
      " -1.08775520e+00 -1.28544558e+00  4.18858529e-01 -6.19327115e-01\n",
      "  1.31286509e-01 -1.48377509e+00 -3.31409903e-01 -1.59790013e+00\n",
      "  6.37860829e-01 -1.82683204e+00  5.34124295e-01 -1.18291462e+00\n",
      " -4.85428270e-01 -1.58911387e+00  5.00570057e-01  6.26137314e-01\n",
      "  8.77786734e-01 -2.90595602e-01  2.95677343e-01 -1.68394886e+00\n",
      "  2.48571912e-01  1.46573588e-01  8.89722204e-01  5.72586404e-01\n",
      "  1.15733393e+00 -3.55875362e-01 -1.16070972e+00  1.14054033e+00\n",
      "  1.99491768e-01  1.85233794e+00  9.75267929e-01  1.90304333e+00\n",
      "  2.92244779e-01  3.86095112e-01  4.46169789e-01  1.39142638e+00\n",
      " -7.71273279e-01 -2.95703465e-01  1.69608243e-01  2.21015173e+00\n",
      "  9.49722682e-01 -2.30699723e-01  5.85812389e-01  4.29704611e-01\n",
      "  3.49950527e-02  5.60610266e-01 -1.44161319e+00  1.99824597e+00\n",
      "  4.72890921e-01  2.10198323e+00 -3.56249207e+00  8.46363792e-01\n",
      " -1.83704178e+00 -1.35748593e+00 -8.02974932e-01 -3.40834313e-01\n",
      " -2.77851784e-01 -1.14766595e-01  4.05773893e-01  5.37072190e-01\n",
      " -1.32111287e+00  7.96850235e-02  8.67330358e-03 -5.94893325e-01\n",
      "  2.68569515e-01  1.24159500e+00 -9.88427369e-01  1.00484915e-01\n",
      " -6.73121424e-01  8.60734392e-01  1.35756071e-01 -6.56482969e-01\n",
      " -1.28587037e+00  1.20486765e+00  8.59725362e-01  7.56365573e-01\n",
      "  9.02956688e-01 -7.29190272e-01 -5.15992446e-01  5.75995583e-01\n",
      "  5.98956454e-01  1.51168568e+00  2.40024942e+00  1.43488669e+00\n",
      " -3.44064523e+00 -4.09523454e-02  1.36071492e+00 -6.19215739e-01\n",
      "  6.11929333e-01 -1.32565126e+00  7.76215447e-01 -7.38859447e-01\n",
      " -2.09417472e+00 -1.65517427e+00 -1.98453722e+00  7.34530047e-02\n",
      " -4.27652407e-01 -3.54482043e-01 -1.07465820e+00 -1.22345465e+00\n",
      "  2.00658146e-01 -9.18319572e-01 -1.94572549e-01  1.93190708e+00\n",
      " -3.15669959e-01 -7.34760821e-01 -1.01290085e+00 -6.89205942e-01\n",
      " -7.39029537e-01 -7.83801844e-01 -3.81210142e-01 -3.66417337e-01\n",
      "  2.37280106e-01  1.72949967e-01  5.76286145e-01  6.69068728e-01\n",
      " -5.84688836e-01 -2.58032175e-01  1.16563606e+00  1.63971312e+00\n",
      " -1.51870477e+00 -2.26822319e-01  3.13856515e-01 -1.76703579e-01\n",
      "  9.67672416e-01 -8.30312793e-01 -1.48884918e-02  4.26228011e-01\n",
      "  1.00258562e-01 -1.26228314e+00 -2.77670149e-01 -1.79850109e-01\n",
      "  9.30853109e-01 -5.40790913e-01 -7.30561360e-01  2.35213994e-01\n",
      " -6.84828343e-01  1.18290734e+00 -3.03731184e-01 -5.79496993e-01\n",
      " -5.56464086e-01  1.87870255e-01  4.08257056e-01 -1.08059606e+00\n",
      "  9.11668318e-01 -8.93553892e-01 -1.14621563e-01 -6.50620403e-01\n",
      "  4.80377537e-01  1.24565652e+00  1.05904553e+00  7.80740911e-01\n",
      " -8.57806145e-01  1.12649833e+00  2.87350496e-01 -7.32298776e-01\n",
      " -1.41865224e+00  9.41279066e-01  2.20250227e-01 -6.03909248e-01\n",
      " -3.00718273e-01 -6.29516825e-01  9.76962920e-01  1.25347385e+00\n",
      " -1.66925917e+00  4.83422565e-01 -9.23852219e-01  1.85849345e-01\n",
      "  5.37636478e-01  3.34357010e-01  1.71873439e+00 -1.14547734e-01\n",
      " -1.10732873e-01  3.06773505e-01 -7.85933124e-01  1.93037297e+00\n",
      "  1.40458394e+00  7.69309380e-01 -4.17715692e-01  1.09121236e+00\n",
      " -1.28024791e+00  1.00577357e+00 -5.77720285e-01  2.56041519e-01\n",
      " -1.66219000e-01  7.91727877e-01 -1.44692408e+00 -7.05498279e-04\n",
      " -2.01515112e+00  9.68362177e-01  3.84504248e-01 -7.28422884e-01\n",
      " -4.27942215e-01  6.72871983e-01  5.84638888e-02  1.47411460e-01\n",
      " -1.13892357e+00 -1.49734541e+00 -4.02979835e-01 -9.59760007e-01\n",
      "  2.19507025e+00  4.51393258e-01  1.12119807e+00 -6.78686661e-03\n",
      " -6.63326087e-01 -1.05335111e+00 -6.79656861e-01 -3.30846186e-01\n",
      " -1.04906020e-01 -2.56986012e+00 -9.82475050e-01  6.15672014e-01\n",
      "  1.45642594e+00  3.71605966e+00 -7.66814371e-01 -5.46985682e-01\n",
      "  1.22211519e+00 -3.55728862e-01 -1.72488711e-01 -4.63258580e-01\n",
      " -2.03935828e-01 -1.00989257e-01 -1.08909692e+00  5.04090627e-01\n",
      "  1.84554537e+00  1.60644243e+00  4.51238004e-01 -9.95069982e-01\n",
      "  1.01591024e+00  7.39579414e-01 -1.68949520e+00 -7.02951476e-01\n",
      " -7.82637405e-01 -9.18519196e-01  6.17639697e-01  8.05420675e-01\n",
      "  1.06632527e+00 -4.90076330e-01  1.19734292e+00  4.16032838e-01\n",
      "  4.96997775e-01  1.01918439e+00 -1.28484499e+00  2.66176449e-01\n",
      "  7.22900395e-01  5.32407686e-01  1.32682289e+00 -6.51718539e-01\n",
      " -3.90521007e-01 -1.76145569e-01 -5.20583219e-01 -3.19457574e-04\n",
      "  3.15738303e-01  1.29469271e-01 -7.75298464e-01  1.93627456e-02\n",
      "  6.39821400e-01 -5.24597114e-01 -6.58924603e-01  6.81514484e-01\n",
      " -6.39448675e-01  2.84592008e-01 -1.94208601e+00 -2.09050592e-02\n",
      " -2.29458943e+00 -4.46009935e-01  6.75726714e-01 -1.16909469e+00\n",
      " -2.50620600e-02 -6.77430135e-01  1.23336804e+00  6.06691885e-01\n",
      "  3.10126437e-01  4.59352936e-01 -6.23413298e-01  8.62158679e-01\n",
      " -7.93896139e-01 -2.05453510e+00  1.47067824e+00 -4.00194488e-01\n",
      "  9.83487545e-02  6.86184874e-01  5.46807969e-01  1.91910316e+00\n",
      " -1.91986046e+00 -8.30427839e-01 -1.63137128e-01  4.17761965e-01\n",
      " -6.05107874e-01  1.09581534e+00 -4.04875053e-01 -2.00992462e-02\n",
      "  1.45805962e+00 -1.63617955e+00 -9.76496554e-01 -1.21782464e+00\n",
      "  4.27365434e-01  5.39487091e-01  5.19202539e-02 -3.36178342e-01\n",
      " -5.78839460e-01  8.38171699e-01 -1.71132325e+00 -7.67040075e-01\n",
      " -4.13031758e-01 -5.48171426e-01 -8.73637821e-01  6.43092599e-01\n",
      "  1.92811505e+00 -9.75504199e-02 -4.38868500e-01 -9.30161719e-01\n",
      " -1.56610549e+00  5.71869783e-01 -6.93034233e-01 -1.03124454e-01\n",
      " -4.36746382e-01  5.71491726e-01  1.29078954e+00  3.31482334e-02\n",
      "  1.33524444e+00 -4.02570755e-01  1.17398604e+00 -3.57876626e-01\n",
      "  6.07555222e-01 -1.60295748e+00 -1.95205995e+00 -7.99810577e-01\n",
      " -1.36157500e+00  9.03302324e-01 -1.24556615e-01 -2.79120908e-01\n",
      " -1.10666531e+00 -7.22508000e-01 -5.98737209e-01  2.10090054e-01\n",
      "  4.77940471e-01  1.67481868e+00 -1.26386771e+00 -4.96359480e-01\n",
      " -5.79510212e-01  1.37139462e+00 -9.61606726e-01  2.22467341e-01\n",
      "  2.58071074e+00 -1.42395984e+00  1.53498531e+00  2.21118248e-01\n",
      " -4.09958177e-01  7.96599619e-01 -5.26210763e-01 -6.00843404e-01\n",
      "  5.26058623e-02  3.34071331e-01  5.83161585e-01 -1.72196435e-01\n",
      " -1.46537374e+00  6.37768432e-01 -7.92021986e-01  4.98236512e-01\n",
      "  7.85534442e-01  1.71060218e-01 -4.92439993e-01  2.09543935e-01\n",
      "  1.72689031e+00 -1.17449377e+00 -5.12986122e-01  6.86148546e-01\n",
      "  2.02586056e+00  1.93027020e+00  8.34375063e-01 -1.83620606e-01\n",
      " -4.99740635e-01  9.03862878e-01 -2.01011213e-01 -9.49537065e-02\n",
      "  2.03761704e-01 -3.63992072e-02  4.77056516e-01  2.27256575e-01\n",
      " -5.24830263e-01  2.79777571e-01  1.41904280e-01 -4.91566127e-01\n",
      " -5.88784893e-01 -6.71496808e-02 -2.86850164e-01  1.40956246e+00\n",
      " -2.70850096e-01  2.59451933e-01 -2.46205753e-01 -5.40925333e-01\n",
      " -1.90143254e+00  1.53319659e+00  2.32340023e-01  1.46576746e+00\n",
      "  4.63693082e-01 -1.26761615e+00  5.07999996e-01  2.70401518e-01\n",
      "  6.75378684e-01  3.64249126e-02 -6.28446782e-01 -1.99463087e-02\n",
      "  1.44483704e+00  4.60235506e-01 -1.51156002e+00 -4.14025867e-01\n",
      " -1.08163864e+00  1.96551648e+00  3.00285640e+00 -1.18450967e+00\n",
      "  6.27693953e-01 -4.09927030e-01 -1.73529241e-01 -3.48274601e-01\n",
      "  6.94903542e-01  6.69178854e-01 -9.01699171e-01  2.02577349e+00\n",
      "  4.85617619e-01  1.70700637e-01 -2.33838664e-02 -1.14736618e+00\n",
      " -1.06052888e+00  4.62494394e-01  3.63819948e-01 -8.16120686e-01\n",
      "  7.17180520e-02 -8.58439901e-01 -9.15675869e-01 -1.16454014e+00\n",
      "  1.25982736e-01 -1.19030313e-01  1.71101164e+00  1.20526094e+00\n",
      "  1.38696277e+00  1.04208183e+00  2.52460663e+00 -1.72881476e-01\n",
      "  7.06935756e-01 -4.61318068e-01  9.38651979e-01  1.11646139e+00\n",
      " -1.96117250e-01 -6.19108860e-01 -2.82653965e-01  1.51535670e-01\n",
      "  1.85579706e+00  1.35586992e+00  3.13351646e-01 -9.29235321e-01\n",
      " -3.64270217e-01 -2.21706719e+00  1.33884292e+00 -1.76968897e+00\n",
      " -2.33260736e-01 -7.55071394e-01  1.24429909e+00 -1.75447200e-01\n",
      "  5.22651751e-01  2.32958010e-01 -1.57757528e+00  5.09475389e-01\n",
      " -3.66737987e-01 -5.81499608e-01 -6.61853637e-01 -1.65375749e+00\n",
      " -5.83520473e-01  3.01432337e-01  3.50023190e-02  3.06641507e-01\n",
      " -1.86169282e-01 -1.07375689e+00 -3.63906742e-01  5.15600206e-02]\n"
     ]
    }
   ],
   "source": [
    "print(stats.norm.rvs(size = 1000))"
   ]
  },
  {
   "cell_type": "markdown",
   "id": "0c094db7",
   "metadata": {},
   "source": [
    "## PDF and CDF Example"
   ]
  },
  {
   "cell_type": "code",
   "execution_count": 18,
   "id": "331a0a34",
   "metadata": {},
   "outputs": [
    {
     "data": {
      "image/png": "[encoded data removed]",
      "text/plain": [
       "<Figure size 640x480 with 1 Axes>"
      ]
     },
     "metadata": {},
     "output_type": "display_data"
    }
   ],
   "source": [
    "from pylab import *\n",
    "\n",
    "# Create some test data\n",
    "dx = .01\n",
    "x = np.arange(-2,2,dx)\n",
    "y = exp(-x**2)\n",
    "\n",
    "# Normalize the data to a proper PDF\n",
    "y /= (dx*y).sum()\n",
    "\n",
    "# Compute the CDF\n",
    "cy = np.cumsum(y*dx)\n",
    "\n",
    "# Plot both\n",
    "plot(x,y)\n",
    "plot(x,cy,'r--')\n",
    "\n",
    "show()"
   ]
  },
  {
   "cell_type": "code",
   "execution_count": 20,
   "id": "63974616",
   "metadata": {},
   "outputs": [
    {
     "name": "stdout",
     "output_type": "stream",
     "text": [
      "[0.0668072  0.30853754 0.5        0.84134475 0.9331928  0.97724987\n",
      " 1.        ]\n"
     ]
    }
   ],
   "source": [
    "print(stats.norm.cdf(np.array([-1.5,-.5,0,1,1.5,2,6])))"
   ]
  },
  {
   "cell_type": "markdown",
   "id": "62307dc2",
   "metadata": {},
   "source": [
    "# Descriptice Statistics"
   ]
  },
  {
   "cell_type": "code",
   "execution_count": 21,
   "id": "13fcacec",
   "metadata": {},
   "outputs": [],
   "source": [
    "np.random.seed(1234)\n",
    "\n",
    "x = stats.t.rvs(10, size = 1000)"
   ]
  },
  {
   "cell_type": "code",
   "execution_count": 23,
   "id": "45a069c0",
   "metadata": {},
   "outputs": [
    {
     "name": "stdout",
     "output_type": "stream",
     "text": [
      "-3.7081318682862507\n",
      "5.489762351653657\n",
      "0.03301501424446721\n"
     ]
    },
    {
     "data": {
      "text/plain": [
       "DescribeResult(nobs=1000, minmax=(-3.7081318682862507, 5.489762351653657), mean=0.03301501424446721, variance=1.218059648667736, skewness=0.017360162164788, kurtosis=0.9792361694613958)"
      ]
     },
     "execution_count": 23,
     "metadata": {},
     "output_type": "execute_result"
    }
   ],
   "source": [
    "print(x.min())\n",
    "\n",
    "print(x.max())\n",
    "\n",
    "print(x.mean())\n",
    "\n",
    "stats.describe(x)"
   ]
  },
  {
   "cell_type": "code",
   "execution_count": null,
   "id": "f41a7bcd",
   "metadata": {},
   "outputs": [],
   "source": []
  }
 ],
 "metadata": {
  "kernelspec": {
   "display_name": "Python 3 (ipykernel)",
   "language": "python",
   "name": "python3"
  },
  "language_info": {
   "codemirror_mode": {
    "name": "ipython",
    "version": 3
   },
   "file_extension": ".py",
   "mimetype": "text/x-python",
   "name": "python",
   "nbconvert_exporter": "python",
   "pygments_lexer": "ipython3",
   "version": "3.11.0"
  }
 },
 "nbformat": 4,
 "nbformat_minor": 5
}
