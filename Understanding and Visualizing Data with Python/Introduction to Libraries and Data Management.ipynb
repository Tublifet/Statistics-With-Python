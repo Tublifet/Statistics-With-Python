{
 "cells": [
  {
   "cell_type": "markdown",
   "id": "a0355acc",
   "metadata": {},
   "source": [
    "# Python Libraries\n",
    "Python, like other programming languages, has an abundance of additional modules or libraries that augument the base framework and funtionality of the language.\n",
    "\n",
    "Think of a library as a collection of functions that can be accessed to complere certain programming tasks without having to write your own algorithm.\n",
    "\n",
    "For this course, we will focus primarily on the following libraries:\n",
    "\n",
    " - Numpy is a library for working with arrays of data.\n",
    " - Pandas provides high-performance, easy-to-use data structures and data analysis tools\n",
    " - Scipy is a library of techniques for numerical and scientific computing.\n",
    " - Matplotlib is a library for making graph.\n",
    " - Seaborn is a higher-level interface to Matplotlib that can be used to simplify many graphing tasks.\n",
    " - Statsmodels is a library that implements many statistical techniques.\n"
   ]
  },
  {
   "cell_type": "markdown",
   "id": "2975944a",
   "metadata": {},
   "source": [
    "# Importing Libraries\n",
    "When using Python, you must always begin your scripts by importing the libraries that you will be using.\n",
    "The following statement umports the numpy and pandas library, and gives them abbreviated names:"
   ]
  },
  {
   "cell_type": "code",
   "execution_count": 6,
   "id": "48726109",
   "metadata": {},
   "outputs": [],
   "source": [
    "import numpy as np\n",
    "import pandas as pd"
   ]
  },
  {
   "cell_type": "markdown",
   "id": "caea4268",
   "metadata": {},
   "source": [
    "# Utilizing Library Functions"
   ]
  },
  {
   "cell_type": "code",
   "execution_count": 7,
   "id": "304be43f",
   "metadata": {},
   "outputs": [
    {
     "data": {
      "text/plain": [
       "5.0"
      ]
     },
     "execution_count": 7,
     "metadata": {},
     "output_type": "execute_result"
    }
   ],
   "source": [
    "a = np.array([0, 1, 2, 3, 4, 5, 6, 7, 8, 9, 10])\n",
    "np.mean(a)"
   ]
  },
  {
   "cell_type": "markdown",
   "id": "3751d970",
   "metadata": {},
   "source": [
    "# Data Management\n"
   ]
  },
  {
   "cell_type": "markdown",
   "id": "9fbe0bad",
   "metadata": {},
   "source": [
    "# Importing Data"
   ]
  },
  {
   "cell_type": "code",
   "execution_count": 9,
   "id": "d8656fe9",
   "metadata": {},
   "outputs": [
    {
     "data": {
      "text/plain": [
       "pandas.core.frame.DataFrame"
      ]
     },
     "execution_count": 9,
     "metadata": {},
     "output_type": "execute_result"
    }
   ],
   "source": [
    "# Store the url string that hosts our .csv file\n",
    "url = \"https://raw.githubusercontent.com/Tublifet/Statistics-With-Python/main/data.raw\"\n",
    "# Read the .csv file and store it as a pandas Data Frame\n",
    "df = pd.read_csv(url)\n",
    "# Output object type\n",
    "type(df)"
   ]
  },
  {
   "cell_type": "markdown",
   "id": "457ebec1",
   "metadata": {},
   "source": [
    "# Viewing Data"
   ]
  },
  {
   "cell_type": "code",
   "execution_count": 11,
   "id": "968848d4",
   "metadata": {},
   "outputs": [
    {
     "data": {
      "text/html": [
       "<div>\n",
       "<style scoped>\n",
       "    .dataframe tbody tr th:only-of-type {\n",
       "        vertical-align: middle;\n",
       "    }\n",
       "\n",
       "    .dataframe tbody tr th {\n",
       "        vertical-align: top;\n",
       "    }\n",
       "\n",
       "    .dataframe thead th {\n",
       "        text-align: right;\n",
       "    }\n",
       "</style>\n",
       "<table border=\"1\" class=\"dataframe\">\n",
       "  <thead>\n",
       "    <tr style=\"text-align: right;\">\n",
       "      <th></th>\n",
       "      <th>Date</th>\n",
       "      <th>Open</th>\n",
       "      <th>Close</th>\n",
       "      <th>State</th>\n",
       "    </tr>\n",
       "  </thead>\n",
       "  <tbody>\n",
       "    <tr>\n",
       "      <th>0</th>\n",
       "      <td>10/3/2018</td>\n",
       "      <td>57.5</td>\n",
       "      <td>58.0</td>\n",
       "      <td>INCREASE</td>\n",
       "    </tr>\n",
       "    <tr>\n",
       "      <th>1</th>\n",
       "      <td>10/4/2018</td>\n",
       "      <td>57.7</td>\n",
       "      <td>57.0</td>\n",
       "      <td>DECREASE</td>\n",
       "    </tr>\n",
       "    <tr>\n",
       "      <th>2</th>\n",
       "      <td>10/5/2018</td>\n",
       "      <td>7.0</td>\n",
       "      <td>56.1</td>\n",
       "      <td>DECREASE</td>\n",
       "    </tr>\n",
       "    <tr>\n",
       "      <th>3</th>\n",
       "      <td>10/8/2018</td>\n",
       "      <td>55.6</td>\n",
       "      <td>55.9</td>\n",
       "      <td>INCREASE</td>\n",
       "    </tr>\n",
       "    <tr>\n",
       "      <th>4</th>\n",
       "      <td>10/9/2018</td>\n",
       "      <td>55.9</td>\n",
       "      <td>56.7</td>\n",
       "      <td>INCREASE</td>\n",
       "    </tr>\n",
       "  </tbody>\n",
       "</table>\n",
       "</div>"
      ],
      "text/plain": [
       "        Date  Open  Close     State\n",
       "0  10/3/2018  57.5   58.0  INCREASE\n",
       "1  10/4/2018  57.7   57.0  DECREASE\n",
       "2  10/5/2018   7.0   56.1  DECREASE\n",
       "3  10/8/2018  55.6   55.9  INCREASE\n",
       "4  10/9/2018  55.9   56.7  INCREASE"
      ]
     },
     "execution_count": 11,
     "metadata": {},
     "output_type": "execute_result"
    }
   ],
   "source": [
    "# We can view our Data Frame by calling the head() function\n",
    "df.head()"
   ]
  },
  {
   "cell_type": "markdown",
   "id": "ecc94fcc",
   "metadata": {},
   "source": [
    "The head() functioin simply shows the first 5 rows of our Data Frame. If we wanted to show the entire Data Frame we would simply write the following:"
   ]
  },
  {
   "cell_type": "code",
   "execution_count": 12,
   "id": "7863ce6a",
   "metadata": {},
   "outputs": [
    {
     "data": {
      "text/html": [
       "<div>\n",
       "<style scoped>\n",
       "    .dataframe tbody tr th:only-of-type {\n",
       "        vertical-align: middle;\n",
       "    }\n",
       "\n",
       "    .dataframe tbody tr th {\n",
       "        vertical-align: top;\n",
       "    }\n",
       "\n",
       "    .dataframe thead th {\n",
       "        text-align: right;\n",
       "    }\n",
       "</style>\n",
       "<table border=\"1\" class=\"dataframe\">\n",
       "  <thead>\n",
       "    <tr style=\"text-align: right;\">\n",
       "      <th></th>\n",
       "      <th>Date</th>\n",
       "      <th>Open</th>\n",
       "      <th>Close</th>\n",
       "      <th>State</th>\n",
       "    </tr>\n",
       "  </thead>\n",
       "  <tbody>\n",
       "    <tr>\n",
       "      <th>0</th>\n",
       "      <td>10/3/2018</td>\n",
       "      <td>57.5</td>\n",
       "      <td>58.0</td>\n",
       "      <td>INCREASE</td>\n",
       "    </tr>\n",
       "    <tr>\n",
       "      <th>1</th>\n",
       "      <td>10/4/2018</td>\n",
       "      <td>57.7</td>\n",
       "      <td>57.0</td>\n",
       "      <td>DECREASE</td>\n",
       "    </tr>\n",
       "    <tr>\n",
       "      <th>2</th>\n",
       "      <td>10/5/2018</td>\n",
       "      <td>7.0</td>\n",
       "      <td>56.1</td>\n",
       "      <td>DECREASE</td>\n",
       "    </tr>\n",
       "    <tr>\n",
       "      <th>3</th>\n",
       "      <td>10/8/2018</td>\n",
       "      <td>55.6</td>\n",
       "      <td>55.9</td>\n",
       "      <td>INCREASE</td>\n",
       "    </tr>\n",
       "    <tr>\n",
       "      <th>4</th>\n",
       "      <td>10/9/2018</td>\n",
       "      <td>55.9</td>\n",
       "      <td>56.7</td>\n",
       "      <td>INCREASE</td>\n",
       "    </tr>\n",
       "    <tr>\n",
       "      <th>5</th>\n",
       "      <td>10/10/2018</td>\n",
       "      <td>56.4</td>\n",
       "      <td>54.1</td>\n",
       "      <td>DECREASE</td>\n",
       "    </tr>\n",
       "    <tr>\n",
       "      <th>6</th>\n",
       "      <td>10/11/2018</td>\n",
       "      <td>53.6</td>\n",
       "      <td>53.6</td>\n",
       "      <td>UNCHANGE</td>\n",
       "    </tr>\n",
       "  </tbody>\n",
       "</table>\n",
       "</div>"
      ],
      "text/plain": [
       "         Date  Open  Close     State\n",
       "0   10/3/2018  57.5   58.0  INCREASE\n",
       "1   10/4/2018  57.7   57.0  DECREASE\n",
       "2   10/5/2018   7.0   56.1  DECREASE\n",
       "3   10/8/2018  55.6   55.9  INCREASE\n",
       "4   10/9/2018  55.9   56.7  INCREASE\n",
       "5  10/10/2018  56.4   54.1  DECREASE\n",
       "6  10/11/2018  53.6   53.6  UNCHANGE"
      ]
     },
     "execution_count": 12,
     "metadata": {},
     "output_type": "execute_result"
    }
   ],
   "source": [
    "# Output entire Date Frame\n",
    "df"
   ]
  },
  {
   "cell_type": "markdown",
   "id": "aabd259a",
   "metadata": {},
   "source": [
    "As you can see, we have a 2-Dimensional object where each row is an independent observation of our cartwheel data.\n",
    "\n",
    "To gather more information regarding the data, we can view the column names and data types of each column with the following functions:"
   ]
  },
  {
   "cell_type": "code",
   "execution_count": 13,
   "id": "d4b67bd2",
   "metadata": {},
   "outputs": [
    {
     "data": {
      "text/plain": [
       "Index(['Date', 'Open', 'Close', 'State'], dtype='object')"
      ]
     },
     "execution_count": 13,
     "metadata": {},
     "output_type": "execute_result"
    }
   ],
   "source": [
    "df.columns"
   ]
  },
  {
   "cell_type": "markdown",
   "id": "eb0f9b46",
   "metadata": {},
   "source": [
    "Lets say we would like to splice our data drame and select only specific portions of our data. There are three different ways of doing so.\n",
    "\n",
    "1. .loc()\n",
    "2. .iloc()\n",
    "3. .ix()\n",
    "\n",
    "We will cover the .loc() and .iloc() splicing functions."
   ]
  },
  {
   "cell_type": "markdown",
   "id": "774b311b",
   "metadata": {},
   "source": [
    "# .loc()\n",
    ".loc() takes two single/list/range operator separated by '.'. The first one indicates the row and the seconde one indicates columns."
   ]
  },
  {
   "cell_type": "code",
   "execution_count": 16,
   "id": "155c36d8",
   "metadata": {},
   "outputs": [
    {
     "data": {
      "text/plain": [
       "0     10/3/2018\n",
       "1     10/4/2018\n",
       "2     10/5/2018\n",
       "3     10/8/2018\n",
       "4     10/9/2018\n",
       "5    10/10/2018\n",
       "6    10/11/2018\n",
       "Name: Date, dtype: object"
      ]
     },
     "execution_count": 16,
     "metadata": {},
     "output_type": "execute_result"
    }
   ],
   "source": [
    "# Return all observations of Date\n",
    "df.loc[:, \"Date\"]"
   ]
  },
  {
   "cell_type": "code",
   "execution_count": 20,
   "id": "19d7c9bd",
   "metadata": {},
   "outputs": [
    {
     "data": {
      "text/html": [
       "<div>\n",
       "<style scoped>\n",
       "    .dataframe tbody tr th:only-of-type {\n",
       "        vertical-align: middle;\n",
       "    }\n",
       "\n",
       "    .dataframe tbody tr th {\n",
       "        vertical-align: top;\n",
       "    }\n",
       "\n",
       "    .dataframe thead th {\n",
       "        text-align: right;\n",
       "    }\n",
       "</style>\n",
       "<table border=\"1\" class=\"dataframe\">\n",
       "  <thead>\n",
       "    <tr style=\"text-align: right;\">\n",
       "      <th></th>\n",
       "      <th>Date</th>\n",
       "      <th>Open</th>\n",
       "      <th>Close</th>\n",
       "    </tr>\n",
       "  </thead>\n",
       "  <tbody>\n",
       "    <tr>\n",
       "      <th>0</th>\n",
       "      <td>10/3/2018</td>\n",
       "      <td>57.5</td>\n",
       "      <td>58.0</td>\n",
       "    </tr>\n",
       "    <tr>\n",
       "      <th>1</th>\n",
       "      <td>10/4/2018</td>\n",
       "      <td>57.7</td>\n",
       "      <td>57.0</td>\n",
       "    </tr>\n",
       "    <tr>\n",
       "      <th>2</th>\n",
       "      <td>10/5/2018</td>\n",
       "      <td>7.0</td>\n",
       "      <td>56.1</td>\n",
       "    </tr>\n",
       "    <tr>\n",
       "      <th>3</th>\n",
       "      <td>10/8/2018</td>\n",
       "      <td>55.6</td>\n",
       "      <td>55.9</td>\n",
       "    </tr>\n",
       "    <tr>\n",
       "      <th>4</th>\n",
       "      <td>10/9/2018</td>\n",
       "      <td>55.9</td>\n",
       "      <td>56.7</td>\n",
       "    </tr>\n",
       "    <tr>\n",
       "      <th>5</th>\n",
       "      <td>10/10/2018</td>\n",
       "      <td>56.4</td>\n",
       "      <td>54.1</td>\n",
       "    </tr>\n",
       "    <tr>\n",
       "      <th>6</th>\n",
       "      <td>10/11/2018</td>\n",
       "      <td>53.6</td>\n",
       "      <td>53.6</td>\n",
       "    </tr>\n",
       "  </tbody>\n",
       "</table>\n",
       "</div>"
      ],
      "text/plain": [
       "         Date  Open  Close\n",
       "0   10/3/2018  57.5   58.0\n",
       "1   10/4/2018  57.7   57.0\n",
       "2   10/5/2018   7.0   56.1\n",
       "3   10/8/2018  55.6   55.9\n",
       "4   10/9/2018  55.9   56.7\n",
       "5  10/10/2018  56.4   54.1\n",
       "6  10/11/2018  53.6   53.6"
      ]
     },
     "execution_count": 20,
     "metadata": {},
     "output_type": "execute_result"
    }
   ],
   "source": [
    "# Select all rows for multiple columns [Date, Open, Close]\n",
    "df.loc[:, ['Date','Open','Close']]"
   ]
  },
  {
   "cell_type": "code",
   "execution_count": 21,
   "id": "99f7b475",
   "metadata": {},
   "outputs": [
    {
     "data": {
      "text/html": [
       "<div>\n",
       "<style scoped>\n",
       "    .dataframe tbody tr th:only-of-type {\n",
       "        vertical-align: middle;\n",
       "    }\n",
       "\n",
       "    .dataframe tbody tr th {\n",
       "        vertical-align: top;\n",
       "    }\n",
       "\n",
       "    .dataframe thead th {\n",
       "        text-align: right;\n",
       "    }\n",
       "</style>\n",
       "<table border=\"1\" class=\"dataframe\">\n",
       "  <thead>\n",
       "    <tr style=\"text-align: right;\">\n",
       "      <th></th>\n",
       "      <th>Date</th>\n",
       "      <th>Open</th>\n",
       "      <th>Close</th>\n",
       "    </tr>\n",
       "  </thead>\n",
       "  <tbody>\n",
       "    <tr>\n",
       "      <th>0</th>\n",
       "      <td>10/3/2018</td>\n",
       "      <td>57.5</td>\n",
       "      <td>58.0</td>\n",
       "    </tr>\n",
       "    <tr>\n",
       "      <th>1</th>\n",
       "      <td>10/4/2018</td>\n",
       "      <td>57.7</td>\n",
       "      <td>57.0</td>\n",
       "    </tr>\n",
       "    <tr>\n",
       "      <th>2</th>\n",
       "      <td>10/5/2018</td>\n",
       "      <td>7.0</td>\n",
       "      <td>56.1</td>\n",
       "    </tr>\n",
       "    <tr>\n",
       "      <th>3</th>\n",
       "      <td>10/8/2018</td>\n",
       "      <td>55.6</td>\n",
       "      <td>55.9</td>\n",
       "    </tr>\n",
       "    <tr>\n",
       "      <th>4</th>\n",
       "      <td>10/9/2018</td>\n",
       "      <td>55.9</td>\n",
       "      <td>56.7</td>\n",
       "    </tr>\n",
       "  </tbody>\n",
       "</table>\n",
       "</div>"
      ],
      "text/plain": [
       "        Date  Open  Close\n",
       "0  10/3/2018  57.5   58.0\n",
       "1  10/4/2018  57.7   57.0\n",
       "2  10/5/2018   7.0   56.1\n",
       "3  10/8/2018  55.6   55.9\n",
       "4  10/9/2018  55.9   56.7"
      ]
     },
     "execution_count": 21,
     "metadata": {},
     "output_type": "execute_result"
    }
   ],
   "source": [
    "# Select few rows for multiple columns ['Date','Open','Close']\n",
    "df.loc[:4, ['Date','Open','Close']]"
   ]
  },
  {
   "cell_type": "code",
   "execution_count": 22,
   "id": "c76a88aa",
   "metadata": {},
   "outputs": [
    {
     "data": {
      "text/html": [
       "<div>\n",
       "<style scoped>\n",
       "    .dataframe tbody tr th:only-of-type {\n",
       "        vertical-align: middle;\n",
       "    }\n",
       "\n",
       "    .dataframe tbody tr th {\n",
       "        vertical-align: top;\n",
       "    }\n",
       "\n",
       "    .dataframe thead th {\n",
       "        text-align: right;\n",
       "    }\n",
       "</style>\n",
       "<table border=\"1\" class=\"dataframe\">\n",
       "  <thead>\n",
       "    <tr style=\"text-align: right;\">\n",
       "      <th></th>\n",
       "      <th>Date</th>\n",
       "      <th>Open</th>\n",
       "      <th>Close</th>\n",
       "      <th>State</th>\n",
       "    </tr>\n",
       "  </thead>\n",
       "  <tbody>\n",
       "    <tr>\n",
       "      <th>3</th>\n",
       "      <td>10/8/2018</td>\n",
       "      <td>55.6</td>\n",
       "      <td>55.9</td>\n",
       "      <td>INCREASE</td>\n",
       "    </tr>\n",
       "    <tr>\n",
       "      <th>4</th>\n",
       "      <td>10/9/2018</td>\n",
       "      <td>55.9</td>\n",
       "      <td>56.7</td>\n",
       "      <td>INCREASE</td>\n",
       "    </tr>\n",
       "    <tr>\n",
       "      <th>5</th>\n",
       "      <td>10/10/2018</td>\n",
       "      <td>56.4</td>\n",
       "      <td>54.1</td>\n",
       "      <td>DECREASE</td>\n",
       "    </tr>\n",
       "  </tbody>\n",
       "</table>\n",
       "</div>"
      ],
      "text/plain": [
       "         Date  Open  Close     State\n",
       "3   10/8/2018  55.6   55.9  INCREASE\n",
       "4   10/9/2018  55.9   56.7  INCREASE\n",
       "5  10/10/2018  56.4   54.1  DECREASE"
      ]
     },
     "execution_count": 22,
     "metadata": {},
     "output_type": "execute_result"
    }
   ],
   "source": [
    "# Select range of rows for all columns\n",
    "df.loc[3:5]"
   ]
  },
  {
   "cell_type": "markdown",
   "id": "09ed05e3",
   "metadata": {},
   "source": [
    "# .iloc()\n",
    ".iloc() is integer based slicing, whereas .loc() used labels/column names. Here are some example:"
   ]
  },
  {
   "cell_type": "code",
   "execution_count": 23,
   "id": "4a1f3531",
   "metadata": {},
   "outputs": [
    {
     "data": {
      "text/html": [
       "<div>\n",
       "<style scoped>\n",
       "    .dataframe tbody tr th:only-of-type {\n",
       "        vertical-align: middle;\n",
       "    }\n",
       "\n",
       "    .dataframe tbody tr th {\n",
       "        vertical-align: top;\n",
       "    }\n",
       "\n",
       "    .dataframe thead th {\n",
       "        text-align: right;\n",
       "    }\n",
       "</style>\n",
       "<table border=\"1\" class=\"dataframe\">\n",
       "  <thead>\n",
       "    <tr style=\"text-align: right;\">\n",
       "      <th></th>\n",
       "      <th>Date</th>\n",
       "      <th>Open</th>\n",
       "      <th>Close</th>\n",
       "      <th>State</th>\n",
       "    </tr>\n",
       "  </thead>\n",
       "  <tbody>\n",
       "    <tr>\n",
       "      <th>0</th>\n",
       "      <td>10/3/2018</td>\n",
       "      <td>57.5</td>\n",
       "      <td>58.0</td>\n",
       "      <td>INCREASE</td>\n",
       "    </tr>\n",
       "    <tr>\n",
       "      <th>1</th>\n",
       "      <td>10/4/2018</td>\n",
       "      <td>57.7</td>\n",
       "      <td>57.0</td>\n",
       "      <td>DECREASE</td>\n",
       "    </tr>\n",
       "    <tr>\n",
       "      <th>2</th>\n",
       "      <td>10/5/2018</td>\n",
       "      <td>7.0</td>\n",
       "      <td>56.1</td>\n",
       "      <td>DECREASE</td>\n",
       "    </tr>\n",
       "    <tr>\n",
       "      <th>3</th>\n",
       "      <td>10/8/2018</td>\n",
       "      <td>55.6</td>\n",
       "      <td>55.9</td>\n",
       "      <td>INCREASE</td>\n",
       "    </tr>\n",
       "  </tbody>\n",
       "</table>\n",
       "</div>"
      ],
      "text/plain": [
       "        Date  Open  Close     State\n",
       "0  10/3/2018  57.5   58.0  INCREASE\n",
       "1  10/4/2018  57.7   57.0  DECREASE\n",
       "2  10/5/2018   7.0   56.1  DECREASE\n",
       "3  10/8/2018  55.6   55.9  INCREASE"
      ]
     },
     "execution_count": 23,
     "metadata": {},
     "output_type": "execute_result"
    }
   ],
   "source": [
    "df.iloc[:4]"
   ]
  },
  {
   "cell_type": "code",
   "execution_count": 33,
   "id": "d20d588d",
   "metadata": {},
   "outputs": [
    {
     "data": {
      "text/html": [
       "<div>\n",
       "<style scoped>\n",
       "    .dataframe tbody tr th:only-of-type {\n",
       "        vertical-align: middle;\n",
       "    }\n",
       "\n",
       "    .dataframe tbody tr th {\n",
       "        vertical-align: top;\n",
       "    }\n",
       "\n",
       "    .dataframe thead th {\n",
       "        text-align: right;\n",
       "    }\n",
       "</style>\n",
       "<table border=\"1\" class=\"dataframe\">\n",
       "  <thead>\n",
       "    <tr style=\"text-align: right;\">\n",
       "      <th></th>\n",
       "      <th>Close</th>\n",
       "      <th>State</th>\n",
       "    </tr>\n",
       "  </thead>\n",
       "  <tbody>\n",
       "    <tr>\n",
       "      <th>1</th>\n",
       "      <td>57.0</td>\n",
       "      <td>DECREASE</td>\n",
       "    </tr>\n",
       "    <tr>\n",
       "      <th>2</th>\n",
       "      <td>56.1</td>\n",
       "      <td>DECREASE</td>\n",
       "    </tr>\n",
       "    <tr>\n",
       "      <th>3</th>\n",
       "      <td>55.9</td>\n",
       "      <td>INCREASE</td>\n",
       "    </tr>\n",
       "    <tr>\n",
       "      <th>4</th>\n",
       "      <td>56.7</td>\n",
       "      <td>INCREASE</td>\n",
       "    </tr>\n",
       "  </tbody>\n",
       "</table>\n",
       "</div>"
      ],
      "text/plain": [
       "   Close     State\n",
       "1   57.0  DECREASE\n",
       "2   56.1  DECREASE\n",
       "3   55.9  INCREASE\n",
       "4   56.7  INCREASE"
      ]
     },
     "execution_count": 33,
     "metadata": {},
     "output_type": "execute_result"
    }
   ],
   "source": [
    "df.iloc[1:5, 2:4]"
   ]
  },
  {
   "cell_type": "code",
   "execution_count": 39,
   "id": "0bb36fb4",
   "metadata": {},
   "outputs": [
    {
     "data": {
      "text/html": [
       "<div>\n",
       "<style scoped>\n",
       "    .dataframe tbody tr th:only-of-type {\n",
       "        vertical-align: middle;\n",
       "    }\n",
       "\n",
       "    .dataframe tbody tr th {\n",
       "        vertical-align: top;\n",
       "    }\n",
       "\n",
       "    .dataframe thead th {\n",
       "        text-align: right;\n",
       "    }\n",
       "</style>\n",
       "<table border=\"1\" class=\"dataframe\">\n",
       "  <thead>\n",
       "    <tr style=\"text-align: right;\">\n",
       "      <th></th>\n",
       "      <th>Date</th>\n",
       "      <th>Open</th>\n",
       "      <th>Close</th>\n",
       "      <th>State</th>\n",
       "    </tr>\n",
       "  </thead>\n",
       "  <tbody>\n",
       "    <tr>\n",
       "      <th>1</th>\n",
       "      <td>10/4/2018</td>\n",
       "      <td>57.7</td>\n",
       "      <td>57.0</td>\n",
       "      <td>DECREASE</td>\n",
       "    </tr>\n",
       "    <tr>\n",
       "      <th>2</th>\n",
       "      <td>10/5/2018</td>\n",
       "      <td>7.0</td>\n",
       "      <td>56.1</td>\n",
       "      <td>DECREASE</td>\n",
       "    </tr>\n",
       "    <tr>\n",
       "      <th>3</th>\n",
       "      <td>10/8/2018</td>\n",
       "      <td>55.6</td>\n",
       "      <td>55.9</td>\n",
       "      <td>INCREASE</td>\n",
       "    </tr>\n",
       "    <tr>\n",
       "      <th>4</th>\n",
       "      <td>10/9/2018</td>\n",
       "      <td>55.9</td>\n",
       "      <td>56.7</td>\n",
       "      <td>INCREASE</td>\n",
       "    </tr>\n",
       "  </tbody>\n",
       "</table>\n",
       "</div>"
      ],
      "text/plain": [
       "        Date  Open  Close     State\n",
       "1  10/4/2018  57.7   57.0  DECREASE\n",
       "2  10/5/2018   7.0   56.1  DECREASE\n",
       "3  10/8/2018  55.6   55.9  INCREASE\n",
       "4  10/9/2018  55.9   56.7  INCREASE"
      ]
     },
     "execution_count": 39,
     "metadata": {},
     "output_type": "execute_result"
    }
   ],
   "source": [
    "df.iloc[1:5]"
   ]
  },
  {
   "cell_type": "markdown",
   "id": "eecbfac4",
   "metadata": {},
   "source": [
    "We can view the data types of out data frame columns with by calling .dtypes on your data frame:"
   ]
  },
  {
   "cell_type": "code",
   "execution_count": 40,
   "id": "173fc0db",
   "metadata": {},
   "outputs": [
    {
     "data": {
      "text/plain": [
       "Date      object\n",
       "Open     float64\n",
       "Close    float64\n",
       "State     object\n",
       "dtype: object"
      ]
     },
     "execution_count": 40,
     "metadata": {},
     "output_type": "execute_result"
    }
   ],
   "source": [
    "df.dtypes"
   ]
  },
  {
   "cell_type": "markdown",
   "id": "3edfe1e9",
   "metadata": {},
   "source": [
    "We may also want to observe the different unique values within a specific column:"
   ]
  },
  {
   "cell_type": "code",
   "execution_count": 41,
   "id": "ed80f00b",
   "metadata": {},
   "outputs": [
    {
     "data": {
      "text/plain": [
       "array(['INCREASE', 'DECREASE', 'UNCHANGE'], dtype=object)"
      ]
     },
     "execution_count": 41,
     "metadata": {},
     "output_type": "execute_result"
    }
   ],
   "source": [
    "# List unique values in the df['State'] column\n",
    "df.State.unique()"
   ]
  },
  {
   "cell_type": "code",
   "execution_count": 42,
   "id": "b3c1ad36",
   "metadata": {},
   "outputs": [
    {
     "data": {
      "text/plain": [
       "array([57.5, 57.7,  7. , 55.6, 55.9, 56.4, 53.6])"
      ]
     },
     "execution_count": 42,
     "metadata": {},
     "output_type": "execute_result"
    }
   ],
   "source": [
    "df.Open.unique()"
   ]
  },
  {
   "cell_type": "markdown",
   "id": "aca3b8ec",
   "metadata": {},
   "source": [
    "It seems that these fields may serve the same purpose, which is to specify INCREASE, DECREASE and UNCHANGE. Lets check this quickly bu observing only these two columns:"
   ]
  },
  {
   "cell_type": "code",
   "execution_count": 44,
   "id": "70c7eb77",
   "metadata": {},
   "outputs": [
    {
     "data": {
      "text/html": [
       "<div>\n",
       "<style scoped>\n",
       "    .dataframe tbody tr th:only-of-type {\n",
       "        vertical-align: middle;\n",
       "    }\n",
       "\n",
       "    .dataframe tbody tr th {\n",
       "        vertical-align: top;\n",
       "    }\n",
       "\n",
       "    .dataframe thead th {\n",
       "        text-align: right;\n",
       "    }\n",
       "</style>\n",
       "<table border=\"1\" class=\"dataframe\">\n",
       "  <thead>\n",
       "    <tr style=\"text-align: right;\">\n",
       "      <th></th>\n",
       "      <th>Open</th>\n",
       "      <th>State</th>\n",
       "    </tr>\n",
       "  </thead>\n",
       "  <tbody>\n",
       "    <tr>\n",
       "      <th>0</th>\n",
       "      <td>57.5</td>\n",
       "      <td>INCREASE</td>\n",
       "    </tr>\n",
       "    <tr>\n",
       "      <th>1</th>\n",
       "      <td>57.7</td>\n",
       "      <td>DECREASE</td>\n",
       "    </tr>\n",
       "    <tr>\n",
       "      <th>2</th>\n",
       "      <td>7.0</td>\n",
       "      <td>DECREASE</td>\n",
       "    </tr>\n",
       "    <tr>\n",
       "      <th>3</th>\n",
       "      <td>55.6</td>\n",
       "      <td>INCREASE</td>\n",
       "    </tr>\n",
       "    <tr>\n",
       "      <th>4</th>\n",
       "      <td>55.9</td>\n",
       "      <td>INCREASE</td>\n",
       "    </tr>\n",
       "    <tr>\n",
       "      <th>5</th>\n",
       "      <td>56.4</td>\n",
       "      <td>DECREASE</td>\n",
       "    </tr>\n",
       "    <tr>\n",
       "      <th>6</th>\n",
       "      <td>53.6</td>\n",
       "      <td>UNCHANGE</td>\n",
       "    </tr>\n",
       "  </tbody>\n",
       "</table>\n",
       "</div>"
      ],
      "text/plain": [
       "   Open     State\n",
       "0  57.5  INCREASE\n",
       "1  57.7  DECREASE\n",
       "2   7.0  DECREASE\n",
       "3  55.6  INCREASE\n",
       "4  55.9  INCREASE\n",
       "5  56.4  DECREASE\n",
       "6  53.6  UNCHANGE"
      ]
     },
     "execution_count": 44,
     "metadata": {},
     "output_type": "execute_result"
    }
   ],
   "source": [
    "# Use .loc() to sepcify a list of multiple column names\n",
    "df.loc[:,['Open', 'State']]"
   ]
  },
  {
   "cell_type": "code",
   "execution_count": 45,
   "id": "a4d593ff",
   "metadata": {},
   "outputs": [
    {
     "data": {
      "text/plain": [
       "Open  State   \n",
       "7.0   DECREASE    1\n",
       "53.6  UNCHANGE    1\n",
       "55.6  INCREASE    1\n",
       "55.9  INCREASE    1\n",
       "56.4  DECREASE    1\n",
       "57.5  INCREASE    1\n",
       "57.7  DECREASE    1\n",
       "dtype: int64"
      ]
     },
     "execution_count": 45,
     "metadata": {},
     "output_type": "execute_result"
    }
   ],
   "source": [
    "df.groupby(['Open', 'State']).size()"
   ]
  },
  {
   "cell_type": "code",
   "execution_count": null,
   "id": "344f1837",
   "metadata": {},
   "outputs": [],
   "source": []
  }
 ],
 "metadata": {
  "kernelspec": {
   "display_name": "Python 3 (ipykernel)",
   "language": "python",
   "name": "python3"
  },
  "language_info": {
   "codemirror_mode": {
    "name": "ipython",
    "version": 3
   },
   "file_extension": ".py",
   "mimetype": "text/x-python",
   "name": "python",
   "nbconvert_exporter": "python",
   "pygments_lexer": "ipython3",
   "version": "3.11.0"
  }
 },
 "nbformat": 4,
 "nbformat_minor": 5
}
