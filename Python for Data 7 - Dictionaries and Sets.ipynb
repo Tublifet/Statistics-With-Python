{
 "cells": [
  {
   "cell_type": "markdown",
   "id": "0d22ef36",
   "metadata": {},
   "source": [
    "Sequence data types like lists, tuples and strings are ordered. Ordering can be useful in some cases, such as if your data is sorted or has some other natural sense of ordering, but it comes at a price. When you search through sequences like lists, your computer has to go through each element one at a time to find an object you're looking for.\n",
    "\n",
    "Consider the following code:"
   ]
  },
  {
   "cell_type": "code",
   "execution_count": 1,
   "id": "e91106b8",
   "metadata": {},
   "outputs": [
    {
     "data": {
      "text/plain": [
       "False"
      ]
     },
     "execution_count": 1,
     "metadata": {},
     "output_type": "execute_result"
    }
   ],
   "source": [
    "my_list = [1,2,3,4,5,6,7,8,9,10]\n",
    "\n",
    "0 in my_list"
   ]
  },
  {
   "cell_type": "markdown",
   "id": "a3b49787",
   "metadata": {},
   "source": [
    "When running the code above, Python has to search through the entire list, one item at a time before it returns that 0 is not in the list. This sequential searching isn't much of a concern with small lists like this one, but if you're working with data that contains thousands or millions of values, it can add up quickly.\n",
    "\n",
    "Dictionaries and sets are unordered Python data structures that solve this issue using a technique called hashing. We won't go into the details of their implementation, but dictionaries and sets let you check whether they contain objects without having to search through each element one at a time, at the cost of having no order and using a bit more system memory"
   ]
  },
  {
   "cell_type": "markdown",
   "id": "1994b599",
   "metadata": {},
   "source": [
    "# Dictionaries"
   ]
  },
  {
   "cell_type": "markdown",
   "id": "91410869",
   "metadata": {},
   "source": [
    "A dictionary or dict is an object that maps a set of named indexes called keys to a set of corresponding values. Dictionaries are mutable, so you can add and remove keys and their associated values. A dictionary's keys must be immutable objects, such as ints, strings or tuples, but the values can be anything.\n",
    "\n",
    "Create a dictionary with a comma-separated list of key: value pairs within curly braces:"
   ]
  },
  {
   "cell_type": "code",
   "execution_count": 3,
   "id": "8de3dc4d",
   "metadata": {},
   "outputs": [
    {
     "name": "stdout",
     "output_type": "stream",
     "text": [
      "{'name': 'Joe', 'age': 10, 'city': 'Paris'}\n"
     ]
    }
   ],
   "source": [
    "my_dict = {\"name\": \"Joe\",\n",
    "           \"age\": 10,\n",
    "           \"city\": \"Paris\"}\n",
    "\n",
    "print(my_dict)"
   ]
  },
  {
   "cell_type": "markdown",
   "id": "05ef572b",
   "metadata": {},
   "source": [
    "Notice that in the printed dictionary, the items don't appear in the same order as when we defined it, since dictionaries are unordered. Index into a dictionary using keys rather than numeric indexes:"
   ]
  },
  {
   "cell_type": "code",
   "execution_count": 4,
   "id": "a4aa91a4",
   "metadata": {},
   "outputs": [
    {
     "data": {
      "text/plain": [
       "'Joe'"
      ]
     },
     "execution_count": 4,
     "metadata": {},
     "output_type": "execute_result"
    }
   ],
   "source": [
    "my_dict[\"name\"]"
   ]
  },
  {
   "cell_type": "markdown",
   "id": "13178412",
   "metadata": {},
   "source": [
    "Add new items to an existing dictionary with the following syntax:"
   ]
  },
  {
   "cell_type": "code",
   "execution_count": 5,
   "id": "80bfda4b",
   "metadata": {},
   "outputs": [
    {
     "name": "stdout",
     "output_type": "stream",
     "text": [
      "{'name': 'Joe', 'age': 10, 'city': 'Paris', 'new_key': 'new_value'}\n"
     ]
    }
   ],
   "source": [
    "my_dict[\"new_key\"] = \"new_value\"\n",
    "print(my_dict)"
   ]
  },
  {
   "cell_type": "markdown",
   "id": "bc2832a6",
   "metadata": {},
   "source": [
    "Add new items to an existing dictionary with the following syntax:"
   ]
  },
  {
   "cell_type": "code",
   "execution_count": 6,
   "id": "84a5605f",
   "metadata": {},
   "outputs": [
    {
     "name": "stdout",
     "output_type": "stream",
     "text": [
      "{'name': 'Joe', 'age': 10, 'city': 'Paris'}\n"
     ]
    }
   ],
   "source": [
    "del my_dict[\"new_key\"]\n",
    "print(my_dict)"
   ]
  },
  {
   "cell_type": "markdown",
   "id": "234a8661",
   "metadata": {},
   "source": [
    "Check the number of items in a dict with len():"
   ]
  },
  {
   "cell_type": "code",
   "execution_count": 7,
   "id": "8cc4da52",
   "metadata": {},
   "outputs": [
    {
     "data": {
      "text/plain": [
       "3"
      ]
     },
     "execution_count": 7,
     "metadata": {},
     "output_type": "execute_result"
    }
   ],
   "source": [
    "len(my_dict)"
   ]
  },
  {
   "cell_type": "markdown",
   "id": "e36690c2",
   "metadata": {},
   "source": [
    "Check whether a certain key exists with \"in\":"
   ]
  },
  {
   "cell_type": "code",
   "execution_count": 8,
   "id": "6c36e1b6",
   "metadata": {},
   "outputs": [
    {
     "data": {
      "text/plain": [
       "True"
      ]
     },
     "execution_count": 8,
     "metadata": {},
     "output_type": "execute_result"
    }
   ],
   "source": [
    "\"name\" in my_dict"
   ]
  },
  {
   "cell_type": "markdown",
   "id": "b3bcbcf6",
   "metadata": {},
   "source": [
    "You can access all the keys, all the values or all the key: value pairs of a dictionary with the keys(), value() and items() functions respectively:"
   ]
  },
  {
   "cell_type": "code",
   "execution_count": 9,
   "id": "af730871",
   "metadata": {},
   "outputs": [
    {
     "data": {
      "text/plain": [
       "dict_keys(['name', 'age', 'city'])"
      ]
     },
     "execution_count": 9,
     "metadata": {},
     "output_type": "execute_result"
    }
   ],
   "source": [
    "my_dict.keys()"
   ]
  },
  {
   "cell_type": "code",
   "execution_count": 11,
   "id": "054822a0",
   "metadata": {},
   "outputs": [
    {
     "data": {
      "text/plain": [
       "dict_values(['Joe', 10, 'Paris'])"
      ]
     },
     "execution_count": 11,
     "metadata": {},
     "output_type": "execute_result"
    }
   ],
   "source": [
    "my_dict.values()"
   ]
  },
  {
   "cell_type": "code",
   "execution_count": 12,
   "id": "78906029",
   "metadata": {},
   "outputs": [
    {
     "data": {
      "text/plain": [
       "dict_items([('name', 'Joe'), ('age', 10), ('city', 'Paris')])"
      ]
     },
     "execution_count": 12,
     "metadata": {},
     "output_type": "execute_result"
    }
   ],
   "source": [
    "my_dict.items()"
   ]
  },
  {
   "cell_type": "raw",
   "id": "4641e63d",
   "metadata": {},
   "source": [
    "Real world data often comes in the form tables of rows and columns, where each column specifies a different data feature like name or age and each row represents an individual record. We can encode this sort of tabular data in a dictionary by assigning each column label a key and then storing the column values as a list.\n",
    "\n",
    "Consider the following table:\n",
    "\n",
    " name     age    city\n",
    "\n",
    " Joe      10      Paris \n",
    " \n",
    " Bob      15      New York \n",
    " \n",
    " Harry    20     Tokyo \n",
    "\n",
    "We can store this data in a dictionary like so:"
   ]
  },
  {
   "cell_type": "code",
   "execution_count": 13,
   "id": "bd83eff9",
   "metadata": {},
   "outputs": [],
   "source": [
    "my_table_dict = {\"name\": [\"Joe\", \"Bob\", \"Harry\"],\n",
    "                 \"age\": [10,15,20],\n",
    "                 \"city\": [\"Paris\", \"New York\", \"Tokyo\"]}"
   ]
  },
  {
   "cell_type": "markdown",
   "id": "9a62c85c",
   "metadata": {},
   "source": [
    "Certain data formats like XML and Json have a non-tabular, nested structure. Python dictionaries can contain other dictionaries, so they can mirror this sort of nested structure, providing a convenient interface for working with these sorts of data formats in Python. (We'll cover loading data into Python in a future lesson.)."
   ]
  },
  {
   "cell_type": "markdown",
   "id": "a87a3335",
   "metadata": {},
   "source": [
    "# Sets\n"
   ]
  },
  {
   "cell_type": "markdown",
   "id": "ee835ffc",
   "metadata": {},
   "source": [
    "Sets are unordered, mutable collections of immutable objects that cannot contain duplicates. Sets are useful for storing and performing operations on data where each value is unique. Create a set with a comma separated sequence of values within curly braces:"
   ]
  },
  {
   "cell_type": "code",
   "execution_count": 14,
   "id": "61b05b2f",
   "metadata": {},
   "outputs": [
    {
     "data": {
      "text/plain": [
       "set"
      ]
     },
     "execution_count": 14,
     "metadata": {},
     "output_type": "execute_result"
    }
   ],
   "source": [
    "my_set = {1,2,3,4,5,6,7}\n",
    "\n",
    "type(my_set)"
   ]
  },
  {
   "cell_type": "markdown",
   "id": "c4c5bb9c",
   "metadata": {},
   "source": [
    "Add and remove items from a set with add() and remove() respectively:"
   ]
  },
  {
   "cell_type": "code",
   "execution_count": 15,
   "id": "a0e06538",
   "metadata": {},
   "outputs": [
    {
     "data": {
      "text/plain": [
       "{1, 2, 3, 4, 5, 6, 7, 8}"
      ]
     },
     "execution_count": 15,
     "metadata": {},
     "output_type": "execute_result"
    }
   ],
   "source": [
    "my_set.add(8)\n",
    "\n",
    "my_set"
   ]
  },
  {
   "cell_type": "code",
   "execution_count": 16,
   "id": "7fa1a055",
   "metadata": {},
   "outputs": [
    {
     "data": {
      "text/plain": [
       "{1, 2, 3, 4, 5, 6, 8}"
      ]
     },
     "execution_count": 16,
     "metadata": {},
     "output_type": "execute_result"
    }
   ],
   "source": [
    "my_set.remove(7)\n",
    "\n",
    "my_set"
   ]
  },
  {
   "cell_type": "markdown",
   "id": "c8d7f6b2",
   "metadata": {},
   "source": [
    "Sets do not support indexing, but they do support basic sequence functions like len(), min(), max() and sum(). You can also check membership and non-membership as usual with in:"
   ]
  },
  {
   "cell_type": "code",
   "execution_count": 17,
   "id": "a1a78e49",
   "metadata": {},
   "outputs": [
    {
     "data": {
      "text/plain": [
       "True"
      ]
     },
     "execution_count": 17,
     "metadata": {},
     "output_type": "execute_result"
    }
   ],
   "source": [
    "6 in my_set"
   ]
  },
  {
   "cell_type": "markdown",
   "id": "c257f192",
   "metadata": {},
   "source": [
    "One of the main purposes of sets is to perform set operations that compare or combine different sets. Python sets support many common mathematical set operations like union, intersection, difference and checking whether one set is a subset of another:"
   ]
  },
  {
   "cell_type": "code",
   "execution_count": 18,
   "id": "db1645b9",
   "metadata": {},
   "outputs": [
    {
     "data": {
      "text/plain": [
       "{1, 2, 3, 4, 5, 6}"
      ]
     },
     "execution_count": 18,
     "metadata": {},
     "output_type": "execute_result"
    }
   ],
   "source": [
    "set1 = {1,3,5,6}\n",
    "set2  = {1,2,3,4}\n",
    "\n",
    "set1.union(set2)  # Get the union of two sets"
   ]
  },
  {
   "cell_type": "code",
   "execution_count": 19,
   "id": "2248ccdb",
   "metadata": {},
   "outputs": [
    {
     "data": {
      "text/plain": [
       "{1, 3}"
      ]
     },
     "execution_count": 19,
     "metadata": {},
     "output_type": "execute_result"
    }
   ],
   "source": [
    "set1.intersection(set2)  # Get the intersection of two sets"
   ]
  },
  {
   "cell_type": "code",
   "execution_count": 20,
   "id": "148c9cde",
   "metadata": {},
   "outputs": [
    {
     "data": {
      "text/plain": [
       "{5, 6}"
      ]
     },
     "execution_count": 20,
     "metadata": {},
     "output_type": "execute_result"
    }
   ],
   "source": [
    "set1.difference(set2)  # Get the difference between two sets"
   ]
  },
  {
   "cell_type": "code",
   "execution_count": 21,
   "id": "86ccf74b",
   "metadata": {},
   "outputs": [
    {
     "data": {
      "text/plain": [
       "False"
      ]
     },
     "execution_count": 21,
     "metadata": {},
     "output_type": "execute_result"
    }
   ],
   "source": [
    "set1.issubset(set2) # Chekc whether set1 is a subset of set2"
   ]
  },
  {
   "cell_type": "markdown",
   "id": "42436930",
   "metadata": {},
   "source": [
    "You can convert a list into a set using the set() function. Converting a list to a set drops any duplicate elements in the list. This can be a useful way to strip unwanted duplicate items or count the number of unique elements in a list. I can also be useful to convert a list to a set if you plan to lookup items repeatedly, since membership lookups are faster with sets than lists."
   ]
  },
  {
   "cell_type": "code",
   "execution_count": 22,
   "id": "13eb1bac",
   "metadata": {},
   "outputs": [
    {
     "data": {
      "text/plain": [
       "{1, 2, 3, 4, 5, 6}"
      ]
     },
     "execution_count": 22,
     "metadata": {},
     "output_type": "execute_result"
    }
   ],
   "source": [
    "my_list = [1,2,2,2,3,3,4,5,5,5,6]\n",
    "\n",
    "set(my_list)"
   ]
  },
  {
   "cell_type": "code",
   "execution_count": null,
   "id": "405a84f9",
   "metadata": {},
   "outputs": [],
   "source": []
  }
 ],
 "metadata": {
  "kernelspec": {
   "display_name": "Python 3 (ipykernel)",
   "language": "python",
   "name": "python3"
  },
  "language_info": {
   "codemirror_mode": {
    "name": "ipython",
    "version": 3
   },
   "file_extension": ".py",
   "mimetype": "text/x-python",
   "name": "python",
   "nbconvert_exporter": "python",
   "pygments_lexer": "ipython3",
   "version": "3.11.0"
  }
 },
 "nbformat": 4,
 "nbformat_minor": 5
}
